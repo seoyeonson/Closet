{
 "cells": [
  {
   "cell_type": "code",
   "execution_count": 186,
   "id": "cd4f0135",
   "metadata": {},
   "outputs": [],
   "source": [
    "MAX_SEQ_LEN = 15\n",
    "\n",
    "\n",
    "def GlobalParams():\n",
    "    global MAX_SEQ_LEN"
   ]
  },
  {
   "cell_type": "code",
   "execution_count": 187,
   "id": "80e7dd2d",
   "metadata": {},
   "outputs": [],
   "source": [
    "# 필요한 모듈 임포트\n",
    "import pandas as pd\n",
    "import tensorflow as tf\n",
    "from tensorflow.keras import preprocessing\n",
    "from tensorflow.keras.models import Model\n",
    "from tensorflow.keras.layers import Input, Embedding, Dense, Dropout, Conv1D, GlobalMaxPool1D, concatenate\n",
    "import os"
   ]
  },
  {
   "cell_type": "code",
   "execution_count": 188,
   "id": "246b8b43",
   "metadata": {
    "scrolled": true
   },
   "outputs": [
    {
     "data": {
      "text/html": [
       "<div>\n",
       "<style scoped>\n",
       "    .dataframe tbody tr th:only-of-type {\n",
       "        vertical-align: middle;\n",
       "    }\n",
       "\n",
       "    .dataframe tbody tr th {\n",
       "        vertical-align: top;\n",
       "    }\n",
       "\n",
       "    .dataframe thead th {\n",
       "        text-align: right;\n",
       "    }\n",
       "</style>\n",
       "<table border=\"1\" class=\"dataframe\">\n",
       "  <thead>\n",
       "    <tr style=\"text-align: right;\">\n",
       "      <th></th>\n",
       "      <th>intent</th>\n",
       "      <th>query</th>\n",
       "    </tr>\n",
       "  </thead>\n",
       "  <tbody>\n",
       "    <tr>\n",
       "      <th>0</th>\n",
       "      <td>0</td>\n",
       "      <td>음, 그러면 하나 해주세요.</td>\n",
       "    </tr>\n",
       "    <tr>\n",
       "      <th>1</th>\n",
       "      <td>1</td>\n",
       "      <td>네. 자동으로 하면 디씨 되나요?</td>\n",
       "    </tr>\n",
       "    <tr>\n",
       "      <th>2</th>\n",
       "      <td>2</td>\n",
       "      <td>어떤 게 있나요?</td>\n",
       "    </tr>\n",
       "    <tr>\n",
       "      <th>3</th>\n",
       "      <td>2</td>\n",
       "      <td>네. 내추럴 브라운이랑 두 가지 안 되나요?</td>\n",
       "    </tr>\n",
       "    <tr>\n",
       "      <th>4</th>\n",
       "      <td>2</td>\n",
       "      <td>어떤 색깔을 주문해야 되나요?</td>\n",
       "    </tr>\n",
       "    <tr>\n",
       "      <th>...</th>\n",
       "      <td>...</td>\n",
       "      <td>...</td>\n",
       "    </tr>\n",
       "    <tr>\n",
       "      <th>10235</th>\n",
       "      <td>12</td>\n",
       "      <td>아냐</td>\n",
       "    </tr>\n",
       "    <tr>\n",
       "      <th>10236</th>\n",
       "      <td>12</td>\n",
       "      <td>아냐</td>\n",
       "    </tr>\n",
       "    <tr>\n",
       "      <th>10237</th>\n",
       "      <td>12</td>\n",
       "      <td>아냐</td>\n",
       "    </tr>\n",
       "    <tr>\n",
       "      <th>10238</th>\n",
       "      <td>12</td>\n",
       "      <td>아냐</td>\n",
       "    </tr>\n",
       "    <tr>\n",
       "      <th>10239</th>\n",
       "      <td>12</td>\n",
       "      <td>아냐</td>\n",
       "    </tr>\n",
       "  </tbody>\n",
       "</table>\n",
       "<p>10240 rows × 2 columns</p>\n",
       "</div>"
      ],
      "text/plain": [
       "       intent                     query\n",
       "0           0           음, 그러면 하나 해주세요.\n",
       "1           1        네. 자동으로 하면 디씨 되나요?\n",
       "2           2                 어떤 게 있나요?\n",
       "3           2  네. 내추럴 브라운이랑 두 가지 안 되나요?\n",
       "4           2          어떤 색깔을 주문해야 되나요?\n",
       "...       ...                       ...\n",
       "10235      12                        아냐\n",
       "10236      12                        아냐\n",
       "10237      12                        아냐\n",
       "10238      12                        아냐\n",
       "10239      12                        아냐\n",
       "\n",
       "[10240 rows x 2 columns]"
      ]
     },
     "execution_count": 188,
     "metadata": {},
     "output_type": "execute_result"
    }
   ],
   "source": [
    "# ① 데이터 읽어오기\n",
    "train_file = os.path.join('./models/intent', \"test_sum.csv\")\n",
    "data = pd.read_csv(train_file, delimiter=',')\n",
    "data"
   ]
  },
  {
   "cell_type": "code",
   "execution_count": 189,
   "id": "fc327df2",
   "metadata": {},
   "outputs": [
    {
     "data": {
      "text/html": [
       "<div>\n",
       "<style scoped>\n",
       "    .dataframe tbody tr th:only-of-type {\n",
       "        vertical-align: middle;\n",
       "    }\n",
       "\n",
       "    .dataframe tbody tr th {\n",
       "        vertical-align: top;\n",
       "    }\n",
       "\n",
       "    .dataframe thead th {\n",
       "        text-align: right;\n",
       "    }\n",
       "</style>\n",
       "<table border=\"1\" class=\"dataframe\">\n",
       "  <thead>\n",
       "    <tr style=\"text-align: right;\">\n",
       "      <th></th>\n",
       "      <th>intent</th>\n",
       "      <th>query</th>\n",
       "    </tr>\n",
       "  </thead>\n",
       "  <tbody>\n",
       "    <tr>\n",
       "      <th>0</th>\n",
       "      <td>0</td>\n",
       "      <td>음, 그러면 하나 해주세요.</td>\n",
       "    </tr>\n",
       "    <tr>\n",
       "      <th>1</th>\n",
       "      <td>1</td>\n",
       "      <td>네. 자동으로 하면 디씨 되나요?</td>\n",
       "    </tr>\n",
       "    <tr>\n",
       "      <th>2</th>\n",
       "      <td>2</td>\n",
       "      <td>어떤 게 있나요?</td>\n",
       "    </tr>\n",
       "    <tr>\n",
       "      <th>3</th>\n",
       "      <td>2</td>\n",
       "      <td>네. 내추럴 브라운이랑 두 가지 안 되나요?</td>\n",
       "    </tr>\n",
       "    <tr>\n",
       "      <th>4</th>\n",
       "      <td>2</td>\n",
       "      <td>어떤 색깔을 주문해야 되나요?</td>\n",
       "    </tr>\n",
       "    <tr>\n",
       "      <th>...</th>\n",
       "      <td>...</td>\n",
       "      <td>...</td>\n",
       "    </tr>\n",
       "    <tr>\n",
       "      <th>8415</th>\n",
       "      <td>12</td>\n",
       "      <td>아니요</td>\n",
       "    </tr>\n",
       "    <tr>\n",
       "      <th>8416</th>\n",
       "      <td>12</td>\n",
       "      <td>아님</td>\n",
       "    </tr>\n",
       "    <tr>\n",
       "      <th>8417</th>\n",
       "      <td>12</td>\n",
       "      <td>ㄴㄴ</td>\n",
       "    </tr>\n",
       "    <tr>\n",
       "      <th>8418</th>\n",
       "      <td>12</td>\n",
       "      <td>아닌데</td>\n",
       "    </tr>\n",
       "    <tr>\n",
       "      <th>8419</th>\n",
       "      <td>12</td>\n",
       "      <td>아니용</td>\n",
       "    </tr>\n",
       "  </tbody>\n",
       "</table>\n",
       "<p>8420 rows × 2 columns</p>\n",
       "</div>"
      ],
      "text/plain": [
       "      intent                     query\n",
       "0          0           음, 그러면 하나 해주세요.\n",
       "1          1        네. 자동으로 하면 디씨 되나요?\n",
       "2          2                 어떤 게 있나요?\n",
       "3          2  네. 내추럴 브라운이랑 두 가지 안 되나요?\n",
       "4          2          어떤 색깔을 주문해야 되나요?\n",
       "...      ...                       ...\n",
       "8415      12                       아니요\n",
       "8416      12                        아님\n",
       "8417      12                        ㄴㄴ\n",
       "8418      12                       아닌데\n",
       "8419      12                       아니용\n",
       "\n",
       "[8420 rows x 2 columns]"
      ]
     },
     "execution_count": 189,
     "metadata": {},
     "output_type": "execute_result"
    }
   ],
   "source": [
    "data.iloc[:8420]"
   ]
  },
  {
   "cell_type": "code",
   "execution_count": 190,
   "id": "e0431c1e",
   "metadata": {},
   "outputs": [
    {
     "data": {
      "text/plain": [
       "array([ 0,  1,  2,  3,  4,  5,  6,  7,  8,  9, 10, 11, 12], dtype=int64)"
      ]
     },
     "execution_count": 190,
     "metadata": {},
     "output_type": "execute_result"
    }
   ],
   "source": [
    "data['intent'].unique()"
   ]
  },
  {
   "cell_type": "code",
   "execution_count": 191,
   "id": "2616ac0b",
   "metadata": {},
   "outputs": [
    {
     "data": {
      "text/html": [
       "<div>\n",
       "<style scoped>\n",
       "    .dataframe tbody tr th:only-of-type {\n",
       "        vertical-align: middle;\n",
       "    }\n",
       "\n",
       "    .dataframe tbody tr th {\n",
       "        vertical-align: top;\n",
       "    }\n",
       "\n",
       "    .dataframe thead th {\n",
       "        text-align: right;\n",
       "    }\n",
       "</style>\n",
       "<table border=\"1\" class=\"dataframe\">\n",
       "  <thead>\n",
       "    <tr style=\"text-align: right;\">\n",
       "      <th></th>\n",
       "      <th>intent</th>\n",
       "      <th>query</th>\n",
       "    </tr>\n",
       "  </thead>\n",
       "  <tbody>\n",
       "    <tr>\n",
       "      <th>8411</th>\n",
       "      <td>12</td>\n",
       "      <td>아니오</td>\n",
       "    </tr>\n",
       "    <tr>\n",
       "      <th>8412</th>\n",
       "      <td>12</td>\n",
       "      <td>아니에요</td>\n",
       "    </tr>\n",
       "    <tr>\n",
       "      <th>8413</th>\n",
       "      <td>12</td>\n",
       "      <td>아니</td>\n",
       "    </tr>\n",
       "    <tr>\n",
       "      <th>8414</th>\n",
       "      <td>12</td>\n",
       "      <td>아냐</td>\n",
       "    </tr>\n",
       "    <tr>\n",
       "      <th>8415</th>\n",
       "      <td>12</td>\n",
       "      <td>아니요</td>\n",
       "    </tr>\n",
       "    <tr>\n",
       "      <th>...</th>\n",
       "      <td>...</td>\n",
       "      <td>...</td>\n",
       "    </tr>\n",
       "    <tr>\n",
       "      <th>10235</th>\n",
       "      <td>12</td>\n",
       "      <td>아냐</td>\n",
       "    </tr>\n",
       "    <tr>\n",
       "      <th>10236</th>\n",
       "      <td>12</td>\n",
       "      <td>아냐</td>\n",
       "    </tr>\n",
       "    <tr>\n",
       "      <th>10237</th>\n",
       "      <td>12</td>\n",
       "      <td>아냐</td>\n",
       "    </tr>\n",
       "    <tr>\n",
       "      <th>10238</th>\n",
       "      <td>12</td>\n",
       "      <td>아냐</td>\n",
       "    </tr>\n",
       "    <tr>\n",
       "      <th>10239</th>\n",
       "      <td>12</td>\n",
       "      <td>아냐</td>\n",
       "    </tr>\n",
       "  </tbody>\n",
       "</table>\n",
       "<p>735 rows × 2 columns</p>\n",
       "</div>"
      ],
      "text/plain": [
       "       intent query\n",
       "8411       12   아니오\n",
       "8412       12  아니에요\n",
       "8413       12    아니\n",
       "8414       12    아냐\n",
       "8415       12   아니요\n",
       "...       ...   ...\n",
       "10235      12    아냐\n",
       "10236      12    아냐\n",
       "10237      12    아냐\n",
       "10238      12    아냐\n",
       "10239      12    아냐\n",
       "\n",
       "[735 rows x 2 columns]"
      ]
     },
     "execution_count": 191,
     "metadata": {},
     "output_type": "execute_result"
    }
   ],
   "source": [
    "data[data['intent'] == 12]  # 상품색상문의에 대한 문장"
   ]
  },
  {
   "cell_type": "code",
   "execution_count": 192,
   "id": "7a27d927",
   "metadata": {},
   "outputs": [],
   "source": [
    "queries = data.dropna()['query'].tolist()\n",
    "intents = data.dropna()['intent'].tolist()"
   ]
  },
  {
   "cell_type": "code",
   "execution_count": 193,
   "id": "62219c2e",
   "metadata": {},
   "outputs": [
    {
     "data": {
      "text/plain": [
       "array([ 0,  1,  2,  3,  4,  5,  6,  7,  8,  9, 10, 11, 12], dtype=int64)"
      ]
     },
     "execution_count": 193,
     "metadata": {},
     "output_type": "execute_result"
    }
   ],
   "source": [
    "data.dropna()['intent'].unique()"
   ]
  },
  {
   "cell_type": "code",
   "execution_count": 194,
   "id": "87682927",
   "metadata": {},
   "outputs": [
    {
     "data": {
      "text/plain": [
       "['음, 그러면 하나 해주세요.',\n",
       " '네. 자동으로 하면 디씨 되나요?',\n",
       " '어떤 게 있나요?',\n",
       " '네. 내추럴 브라운이랑 두 가지 안 되나요?',\n",
       " '어떤 색깔을 주문해야 되나요?',\n",
       " '아. 다크가 좀 진한 색이죠?',\n",
       " '제가 프라이팬으로 착각했지만 이 상품 박스채 그대로라 반품해주세요.',\n",
       " '그거 같은 가격에 살 수 있어요?',\n",
       " '네, 주문은 맞는데 취소할려고요.',\n",
       " '내가 삼십육이니까.',\n",
       " '네. 사만 팔천구백원 아닙니까?',\n",
       " '바닥에 하는 거 신청하려구요.',\n",
       " '이백삼십오말고 이백사십으로 되나요?',\n",
       " '예. 타일 박사 신청하려고요.',\n",
       " '네 그런데 칠만 사천 백원으로 뜨는 건 뭐예요?',\n",
       " '그러면 취소 좀 시켜주세요.',\n",
       " '그러니까 배려를 좀 해주세요.',\n",
       " '네. 확인이 안 되면 취소해 주세요.',\n",
       " '천원 할인이 적용되는 거죠?',\n",
       " '육만구천구백원이요?']"
      ]
     },
     "execution_count": 194,
     "metadata": {},
     "output_type": "execute_result"
    }
   ],
   "source": [
    "queries[:20]"
   ]
  },
  {
   "cell_type": "code",
   "execution_count": 195,
   "id": "e3d27fc2",
   "metadata": {},
   "outputs": [
    {
     "data": {
      "text/plain": [
       "[0, 1, 2, 2, 2, 2, 3, 4, 5, 6, 4, 0, 6, 0, 4, 5, 5, 5, 1, 4]"
      ]
     },
     "execution_count": 195,
     "metadata": {},
     "output_type": "execute_result"
    }
   ],
   "source": [
    "intents[:20]"
   ]
  },
  {
   "cell_type": "code",
   "execution_count": 196,
   "id": "19a8ea3a",
   "metadata": {},
   "outputs": [],
   "source": [
    "from utils.Preprocess import Preprocess\n",
    "p = Preprocess(word2index_dic=os.path.join('./train_tools/dict', 'chatbot_dict.bin'),\n",
    "               userdic=os.path.join('./utils', 'train.tsv'))"
   ]
  },
  {
   "cell_type": "code",
   "execution_count": 197,
   "id": "305ecee1",
   "metadata": {},
   "outputs": [],
   "source": [
    "sequences = []\n",
    "for sentence in queries:\n",
    "    pos = p.pos(sentence)\n",
    "    keywords = p.get_keywords(pos, without_tag=True)\n",
    "    seq = p.get_wordidx_sequence(keywords)\n",
    "    sequences.append(seq)"
   ]
  },
  {
   "cell_type": "code",
   "execution_count": 198,
   "id": "494bfe42",
   "metadata": {},
   "outputs": [
    {
     "data": {
      "text/plain": [
       "['음, 그러면 하나 해주세요.',\n",
       " '네. 자동으로 하면 디씨 되나요?',\n",
       " '어떤 게 있나요?',\n",
       " '네. 내추럴 브라운이랑 두 가지 안 되나요?',\n",
       " '어떤 색깔을 주문해야 되나요?',\n",
       " '아. 다크가 좀 진한 색이죠?',\n",
       " '제가 프라이팬으로 착각했지만 이 상품 박스채 그대로라 반품해주세요.',\n",
       " '그거 같은 가격에 살 수 있어요?',\n",
       " '네, 주문은 맞는데 취소할려고요.',\n",
       " '내가 삼십육이니까.']"
      ]
     },
     "execution_count": 198,
     "metadata": {},
     "output_type": "execute_result"
    }
   ],
   "source": [
    "queries[:10]"
   ]
  },
  {
   "cell_type": "code",
   "execution_count": 199,
   "id": "f04736e6",
   "metadata": {},
   "outputs": [
    {
     "data": {
      "text/plain": [
       "[[320, 708, 2, 685, 25, 244],\n",
       " [5, 181, 2, 844, 1019, 13],\n",
       " [75, 17, 15],\n",
       " [5, 2243, 323, 294, 118, 16, 42, 13],\n",
       " [75, 129, 21, 685, 13],\n",
       " [7, 1020, 35, 593, 120, 3],\n",
       " [63, 1492, 1441, 3, 54, 365, 2244, 536, 178, 10, 685, 25, 244],\n",
       " [592, 76, 38, 90, 83, 15],\n",
       " [5, 21, 61, 59],\n",
       " [212, 119, 157, 3]]"
      ]
     },
     "execution_count": 199,
     "metadata": {},
     "output_type": "execute_result"
    }
   ],
   "source": [
    "sequences[:10]"
   ]
  },
  {
   "cell_type": "code",
   "execution_count": 200,
   "id": "9ff09ddc",
   "metadata": {},
   "outputs": [],
   "source": [
    "from config.GlobalParams import MAX_SEQ_LEN\n",
    "padded_seqs = preprocessing.sequence.pad_sequences(sequences, maxlen=MAX_SEQ_LEN, padding='post')"
   ]
  },
  {
   "cell_type": "code",
   "execution_count": 201,
   "id": "980f6296",
   "metadata": {},
   "outputs": [
    {
     "data": {
      "text/plain": [
       "(10182, 15)"
      ]
     },
     "execution_count": 201,
     "metadata": {},
     "output_type": "execute_result"
    }
   ],
   "source": [
    "padded_seqs.shape"
   ]
  },
  {
   "cell_type": "code",
   "execution_count": 202,
   "id": "4f5f2e45",
   "metadata": {},
   "outputs": [
    {
     "data": {
      "text/plain": [
       "array([[ 320,  708,    2,  685,   25,  244,    0,    0,    0,    0,    0,\n",
       "           0,    0,    0,    0],\n",
       "       [   5,  181,    2,  844, 1019,   13,    0,    0,    0,    0,    0,\n",
       "           0,    0,    0,    0],\n",
       "       [  75,   17,   15,    0,    0,    0,    0,    0,    0,    0,    0,\n",
       "           0,    0,    0,    0],\n",
       "       [   5, 2243,  323,  294,  118,   16,   42,   13,    0,    0,    0,\n",
       "           0,    0,    0,    0],\n",
       "       [  75,  129,   21,  685,   13,    0,    0,    0,    0,    0,    0,\n",
       "           0,    0,    0,    0],\n",
       "       [   7, 1020,   35,  593,  120,    3,    0,    0,    0,    0,    0,\n",
       "           0,    0,    0,    0],\n",
       "       [  63, 1492, 1441,    3,   54,  365, 2244,  536,  178,   10,  685,\n",
       "          25,  244,    0,    0],\n",
       "       [ 592,   76,   38,   90,   83,   15,    0,    0,    0,    0,    0,\n",
       "           0,    0,    0,    0],\n",
       "       [   5,   21,   61,   59,    0,    0,    0,    0,    0,    0,    0,\n",
       "           0,    0,    0,    0],\n",
       "       [ 212,  119,  157,    3,    0,    0,    0,    0,    0,    0,    0,\n",
       "           0,    0,    0,    0]])"
      ]
     },
     "execution_count": 202,
     "metadata": {},
     "output_type": "execute_result"
    }
   ],
   "source": [
    "padded_seqs[:10]"
   ]
  },
  {
   "cell_type": "code",
   "execution_count": 203,
   "id": "b1b74661",
   "metadata": {},
   "outputs": [],
   "source": [
    "# ③ 학습용, 검증용, 테스트용 데이터셋 생성\n",
    "ds = tf.data.Dataset.from_tensor_slices((padded_seqs, intents)) # 패딩처리된 시퀀스와 의도(intent) 리스트 전체를 데이터셋 객체로\n",
    "ds = ds.shuffle(len(queries)) # 랜덤 섞기\n",
    "\n",
    "# 학습셋:검증셋:테스트셋 = 7:2:1\n",
    "train_size = int(len(padded_seqs) * 0.7)\n",
    "val_size = int(len(padded_seqs) * 0.2)\n",
    "test_size = int(len(padded_seqs) * 0.1)\n",
    "\n",
    "train_ds = ds.take(train_size).batch(20)\n",
    "val_ds = ds.skip(train_size).take(val_size).batch(20)\n",
    "test_ds = ds.skip(train_size + val_size).take(test_size).batch(20)\n",
    "\n",
    "# 하이퍼 파라미터 설정\n",
    "dropout_prob = 0.5\n",
    "EMB_SIZE = 128\n",
    "EPOCH = 5\n",
    "VOCAB_SIZE = len(p.word_index) + 1 #전체 단어 개수"
   ]
  },
  {
   "cell_type": "code",
   "execution_count": 204,
   "id": "80909b15",
   "metadata": {},
   "outputs": [],
   "source": [
    "# ④ CNN 모델 정의\n",
    "# keras 함수형 모델 방식으로 구현\n",
    "input_layer = Input(shape=(MAX_SEQ_LEN,))  # 입력크기\n",
    "embedding_layer = Embedding(VOCAB_SIZE, EMB_SIZE, input_length=MAX_SEQ_LEN)(input_layer)\n",
    "dropout_emb = Dropout(rate=dropout_prob)(embedding_layer)\n",
    "\n",
    "conv1 = Conv1D(\n",
    "    filters=128,\n",
    "    kernel_size=3,\n",
    "    padding='valid',\n",
    "    activation=tf.nn.relu)(dropout_emb)\n",
    "pool1 = GlobalMaxPool1D()(conv1)\n",
    "\n",
    "conv2 = Conv1D(\n",
    "    filters=128,\n",
    "    kernel_size=4,\n",
    "    padding='valid',\n",
    "    activation=tf.nn.relu)(dropout_emb)\n",
    "pool2 = GlobalMaxPool1D()(conv2)\n",
    "\n",
    "conv3 = Conv1D(\n",
    "    filters=128,\n",
    "    kernel_size=5,\n",
    "    padding='valid',\n",
    "    activation=tf.nn.relu)(dropout_emb)\n",
    "pool3 = GlobalMaxPool1D()(conv3)\n",
    "\n",
    "# 3,4,5gram 이후 합치기\n",
    "concat = concatenate([pool1, pool2, pool3])\n",
    "\n",
    "hidden = Dense(128, activation=tf.nn.relu)(concat)\n",
    "dropout_hidden = Dropout(rate=dropout_prob)(hidden)\n",
    "logits = Dense(13, name='logits')(dropout_hidden)  # 최종적으로 10개의 의도 클래스를 분류. 결과로 나온 값(logits) 을을 점수(score) 라 부른다\n",
    "predictions = Dense(13, activation=tf.nn.softmax)(logits)"
   ]
  },
  {
   "cell_type": "code",
   "execution_count": 205,
   "id": "5914388c",
   "metadata": {},
   "outputs": [],
   "source": [
    "# ⑤ 모델 생성 \n",
    "model = Model(inputs=input_layer, outputs=predictions)\n",
    "model.compile(optimizer='adam',\n",
    "              loss='sparse_categorical_crossentropy',\n",
    "              metrics=['accuracy'])"
   ]
  },
  {
   "cell_type": "code",
   "execution_count": 206,
   "id": "30ae5386",
   "metadata": {},
   "outputs": [
    {
     "name": "stdout",
     "output_type": "stream",
     "text": [
      "Model: \"model_8\"\n",
      "__________________________________________________________________________________________________\n",
      " Layer (type)                   Output Shape         Param #     Connected to                     \n",
      "==================================================================================================\n",
      " input_9 (InputLayer)           [(None, 15)]         0           []                               \n",
      "                                                                                                  \n",
      " embedding_8 (Embedding)        (None, 15, 128)      374656      ['input_9[0][0]']                \n",
      "                                                                                                  \n",
      " dropout_16 (Dropout)           (None, 15, 128)      0           ['embedding_8[0][0]']            \n",
      "                                                                                                  \n",
      " conv1d_24 (Conv1D)             (None, 13, 128)      49280       ['dropout_16[0][0]']             \n",
      "                                                                                                  \n",
      " conv1d_25 (Conv1D)             (None, 12, 128)      65664       ['dropout_16[0][0]']             \n",
      "                                                                                                  \n",
      " conv1d_26 (Conv1D)             (None, 11, 128)      82048       ['dropout_16[0][0]']             \n",
      "                                                                                                  \n",
      " global_max_pooling1d_24 (Globa  (None, 128)         0           ['conv1d_24[0][0]']              \n",
      " lMaxPooling1D)                                                                                   \n",
      "                                                                                                  \n",
      " global_max_pooling1d_25 (Globa  (None, 128)         0           ['conv1d_25[0][0]']              \n",
      " lMaxPooling1D)                                                                                   \n",
      "                                                                                                  \n",
      " global_max_pooling1d_26 (Globa  (None, 128)         0           ['conv1d_26[0][0]']              \n",
      " lMaxPooling1D)                                                                                   \n",
      "                                                                                                  \n",
      " concatenate_8 (Concatenate)    (None, 384)          0           ['global_max_pooling1d_24[0][0]',\n",
      "                                                                  'global_max_pooling1d_25[0][0]',\n",
      "                                                                  'global_max_pooling1d_26[0][0]']\n",
      "                                                                                                  \n",
      " dense_16 (Dense)               (None, 128)          49280       ['concatenate_8[0][0]']          \n",
      "                                                                                                  \n",
      " dropout_17 (Dropout)           (None, 128)          0           ['dense_16[0][0]']               \n",
      "                                                                                                  \n",
      " logits (Dense)                 (None, 13)           1677        ['dropout_17[0][0]']             \n",
      "                                                                                                  \n",
      " dense_17 (Dense)               (None, 13)           182         ['logits[0][0]']                 \n",
      "                                                                                                  \n",
      "==================================================================================================\n",
      "Total params: 622,787\n",
      "Trainable params: 622,787\n",
      "Non-trainable params: 0\n",
      "__________________________________________________________________________________________________\n"
     ]
    }
   ],
   "source": [
    "model.summary()"
   ]
  },
  {
   "cell_type": "code",
   "execution_count": 207,
   "id": "23cf17b0",
   "metadata": {},
   "outputs": [
    {
     "name": "stdout",
     "output_type": "stream",
     "text": [
      "Epoch 1/5\n",
      "357/357 [==============================] - 3s 6ms/step - loss: 1.2695 - accuracy: 0.6087 - val_loss: 0.4779 - val_accuracy: 0.8595\n",
      "Epoch 2/5\n",
      "357/357 [==============================] - 2s 6ms/step - loss: 0.4959 - accuracy: 0.8631 - val_loss: 0.3271 - val_accuracy: 0.9165\n",
      "Epoch 3/5\n",
      "357/357 [==============================] - 2s 6ms/step - loss: 0.3567 - accuracy: 0.9025 - val_loss: 0.2158 - val_accuracy: 0.9435\n",
      "Epoch 4/5\n",
      "357/357 [==============================] - 2s 6ms/step - loss: 0.2895 - accuracy: 0.9199 - val_loss: 0.1817 - val_accuracy: 0.9479\n",
      "Epoch 5/5\n",
      "357/357 [==============================] - 2s 6ms/step - loss: 0.2394 - accuracy: 0.9324 - val_loss: 0.1385 - val_accuracy: 0.9622\n"
     ]
    },
    {
     "data": {
      "text/plain": [
       "<keras.callbacks.History at 0x25ed340dd90>"
      ]
     },
     "execution_count": 207,
     "metadata": {},
     "output_type": "execute_result"
    }
   ],
   "source": [
    "# # 모델 학습\n",
    "# # ★ 시간 걸림 ★\n",
    "\n",
    "model.fit(train_ds, validation_data=val_ds, epochs=EPOCH, verbose=1)"
   ]
  },
  {
   "cell_type": "code",
   "execution_count": 208,
   "id": "8f2ae6f8",
   "metadata": {},
   "outputs": [
    {
     "name": "stdout",
     "output_type": "stream",
     "text": [
      "51/51 [==============================] - 0s 1ms/step - loss: 0.1643 - accuracy: 0.9578\n",
      "Accuracy: 95.776033\n",
      "loss: 0.164272\n"
     ]
    }
   ],
   "source": [
    "# ⑦ 모델 평가(테스트 데이터 셋 이용)\n",
    "loss, accuracy = model.evaluate(test_ds, verbose=1)\n",
    "print('Accuracy: %f' % (accuracy * 100))\n",
    "print('loss: %f' % (loss))"
   ]
  },
  {
   "cell_type": "code",
   "execution_count": 209,
   "id": "04ed5023",
   "metadata": {},
   "outputs": [],
   "source": [
    "# ⑧ 모델 저장\n",
    "model.save(os.path.join('./models/intent','intent_model.h5'))"
   ]
  },
  {
   "cell_type": "code",
   "execution_count": 210,
   "id": "194d58e8",
   "metadata": {},
   "outputs": [],
   "source": [
    "from utils.Preprocess import Preprocess    # 의도분류 모델 테스트\n",
    "from models.intent.IntentModel import IntentModel\n",
    "import os\n",
    "\n",
    "p = Preprocess(word2index_dic=os.path.join('./train_tools/dict', 'chatbot_dict.bin'),\n",
    "               userdic=os.path.join('./utils', 'user_dic_1.tsv'))"
   ]
  },
  {
   "cell_type": "code",
   "execution_count": 211,
   "id": "ea27059b",
   "metadata": {},
   "outputs": [],
   "source": [
    "intent = IntentModel(model_name=os.path.join('./models/intent', 'intent_model.h5'), preprocess=p)"
   ]
  },
  {
   "cell_type": "code",
   "execution_count": 222,
   "id": "426926b4",
   "metadata": {},
   "outputs": [
    {
     "name": "stdout",
     "output_type": "stream",
     "text": [
      "레그웨어\n",
      "의도 예측 클래스 :  10\n",
      "의도 예측 레이블 :  카테고리선택\n"
     ]
    }
   ],
   "source": [
    "query = '레그웨어'\n",
    "predict = intent.predict_class(query)\n",
    "predict_label = intent.labels[predict]\n",
    "print(query)\n",
    "print(\"의도 예측 클래스 : \", predict)\n",
    "print(\"의도 예측 레이블 : \", predict_label)"
   ]
  },
  {
   "cell_type": "code",
   "execution_count": null,
   "id": "806dc026",
   "metadata": {},
   "outputs": [],
   "source": []
  }
 ],
 "metadata": {
  "kernelspec": {
   "display_name": "Python 3 (ipykernel)",
   "language": "python",
   "name": "python3"
  },
  "language_info": {
   "codemirror_mode": {
    "name": "ipython",
    "version": 3
   },
   "file_extension": ".py",
   "mimetype": "text/x-python",
   "name": "python",
   "nbconvert_exporter": "python",
   "pygments_lexer": "ipython3",
   "version": "3.9.12"
  }
 },
 "nbformat": 4,
 "nbformat_minor": 5
}
