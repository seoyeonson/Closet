{
 "cells": [
  {
   "cell_type": "code",
   "execution_count": 1,
   "id": "cd4f0135",
   "metadata": {},
   "outputs": [],
   "source": [
    "MAX_SEQ_LEN = 15\n",
    "\n",
    "\n",
    "def GlobalParams():\n",
    "    global MAX_SEQ_LEN"
   ]
  },
  {
   "cell_type": "code",
   "execution_count": 2,
   "id": "80e7dd2d",
   "metadata": {},
   "outputs": [],
   "source": [
    "# 필요한 모듈 임포트\n",
    "import pandas as pd\n",
    "import tensorflow as tf\n",
    "from tensorflow.keras import preprocessing\n",
    "from tensorflow.keras.models import Model\n",
    "from tensorflow.keras.layers import Input, Embedding, Dense, Dropout, Conv1D, GlobalMaxPool1D, concatenate\n",
    "import os"
   ]
  },
  {
   "cell_type": "code",
   "execution_count": 3,
   "id": "246b8b43",
   "metadata": {},
   "outputs": [
    {
     "data": {
      "text/html": [
       "<div>\n",
       "<style scoped>\n",
       "    .dataframe tbody tr th:only-of-type {\n",
       "        vertical-align: middle;\n",
       "    }\n",
       "\n",
       "    .dataframe tbody tr th {\n",
       "        vertical-align: top;\n",
       "    }\n",
       "\n",
       "    .dataframe thead th {\n",
       "        text-align: right;\n",
       "    }\n",
       "</style>\n",
       "<table border=\"1\" class=\"dataframe\">\n",
       "  <thead>\n",
       "    <tr style=\"text-align: right;\">\n",
       "      <th></th>\n",
       "      <th>intent</th>\n",
       "      <th>query</th>\n",
       "    </tr>\n",
       "  </thead>\n",
       "  <tbody>\n",
       "    <tr>\n",
       "      <th>0</th>\n",
       "      <td>0</td>\n",
       "      <td>음, 그러면 하나 해주세요.</td>\n",
       "    </tr>\n",
       "    <tr>\n",
       "      <th>1</th>\n",
       "      <td>1</td>\n",
       "      <td>네. 자동으로 하면 디씨 되나요?</td>\n",
       "    </tr>\n",
       "    <tr>\n",
       "      <th>2</th>\n",
       "      <td>2</td>\n",
       "      <td>어떤 게 있나요?</td>\n",
       "    </tr>\n",
       "    <tr>\n",
       "      <th>3</th>\n",
       "      <td>2</td>\n",
       "      <td>네. 내추럴 브라운이랑 두 가지 안 되나요?</td>\n",
       "    </tr>\n",
       "    <tr>\n",
       "      <th>4</th>\n",
       "      <td>2</td>\n",
       "      <td>어떤 색깔을 주문해야 되나요?</td>\n",
       "    </tr>\n",
       "    <tr>\n",
       "      <th>...</th>\n",
       "      <td>...</td>\n",
       "      <td>...</td>\n",
       "    </tr>\n",
       "    <tr>\n",
       "      <th>8222</th>\n",
       "      <td>8</td>\n",
       "      <td>요즘은 유행이 되게 단순하게 많이 나가죠?</td>\n",
       "    </tr>\n",
       "    <tr>\n",
       "      <th>8223</th>\n",
       "      <td>4</td>\n",
       "      <td>블라우스나 티셔츠 같은거는 얼마부터 있어요?</td>\n",
       "    </tr>\n",
       "    <tr>\n",
       "      <th>8224</th>\n",
       "      <td>4</td>\n",
       "      <td>이런 스카프는 얼마예요?</td>\n",
       "    </tr>\n",
       "    <tr>\n",
       "      <th>8225</th>\n",
       "      <td>4</td>\n",
       "      <td>이런 옷은 얼마예요?</td>\n",
       "    </tr>\n",
       "    <tr>\n",
       "      <th>8226</th>\n",
       "      <td>8</td>\n",
       "      <td>요즘 유행하는 색깔이 뭐예요?</td>\n",
       "    </tr>\n",
       "  </tbody>\n",
       "</table>\n",
       "<p>8227 rows × 2 columns</p>\n",
       "</div>"
      ],
      "text/plain": [
       "      intent                     query\n",
       "0          0           음, 그러면 하나 해주세요.\n",
       "1          1        네. 자동으로 하면 디씨 되나요?\n",
       "2          2                 어떤 게 있나요?\n",
       "3          2  네. 내추럴 브라운이랑 두 가지 안 되나요?\n",
       "4          2          어떤 색깔을 주문해야 되나요?\n",
       "...      ...                       ...\n",
       "8222       8   요즘은 유행이 되게 단순하게 많이 나가죠?\n",
       "8223       4  블라우스나 티셔츠 같은거는 얼마부터 있어요?\n",
       "8224       4             이런 스카프는 얼마예요?\n",
       "8225       4               이런 옷은 얼마예요?\n",
       "8226       8          요즘 유행하는 색깔이 뭐예요?\n",
       "\n",
       "[8227 rows x 2 columns]"
      ]
     },
     "execution_count": 3,
     "metadata": {},
     "output_type": "execute_result"
    }
   ],
   "source": [
    "# ① 데이터 읽어오기\n",
    "train_file = os.path.join('./models/intent', \"test_sum.csv\")\n",
    "data = pd.read_csv(train_file, delimiter=',')\n",
    "data"
   ]
  },
  {
   "cell_type": "code",
   "execution_count": 4,
   "id": "e0431c1e",
   "metadata": {},
   "outputs": [
    {
     "data": {
      "text/plain": [
       "array([0, 1, 2, 3, 4, 5, 6, 7, 8], dtype=int64)"
      ]
     },
     "execution_count": 4,
     "metadata": {},
     "output_type": "execute_result"
    }
   ],
   "source": [
    "data['intent'].unique()"
   ]
  },
  {
   "cell_type": "code",
   "execution_count": 5,
   "id": "2616ac0b",
   "metadata": {},
   "outputs": [
    {
     "data": {
      "text/html": [
       "<div>\n",
       "<style scoped>\n",
       "    .dataframe tbody tr th:only-of-type {\n",
       "        vertical-align: middle;\n",
       "    }\n",
       "\n",
       "    .dataframe tbody tr th {\n",
       "        vertical-align: top;\n",
       "    }\n",
       "\n",
       "    .dataframe thead th {\n",
       "        text-align: right;\n",
       "    }\n",
       "</style>\n",
       "<table border=\"1\" class=\"dataframe\">\n",
       "  <thead>\n",
       "    <tr style=\"text-align: right;\">\n",
       "      <th></th>\n",
       "      <th>intent</th>\n",
       "      <th>query</th>\n",
       "    </tr>\n",
       "  </thead>\n",
       "  <tbody>\n",
       "    <tr>\n",
       "      <th>24</th>\n",
       "      <td>7</td>\n",
       "      <td>네 언제 와요?</td>\n",
       "    </tr>\n",
       "    <tr>\n",
       "      <th>29</th>\n",
       "      <td>7</td>\n",
       "      <td>네 제가 주말에 갈비탕 두 개를 신청했는데 배송 확인하려고요.</td>\n",
       "    </tr>\n",
       "    <tr>\n",
       "      <th>34</th>\n",
       "      <td>7</td>\n",
       "      <td>그럼 내일이나 모레 온다는 거네요?</td>\n",
       "    </tr>\n",
       "    <tr>\n",
       "      <th>84</th>\n",
       "      <td>7</td>\n",
       "      <td>언제 오나요?</td>\n",
       "    </tr>\n",
       "    <tr>\n",
       "      <th>111</th>\n",
       "      <td>7</td>\n",
       "      <td>이거는 언제 받아 볼 수 있어요?</td>\n",
       "    </tr>\n",
       "    <tr>\n",
       "      <th>...</th>\n",
       "      <td>...</td>\n",
       "      <td>...</td>\n",
       "    </tr>\n",
       "    <tr>\n",
       "      <th>5674</th>\n",
       "      <td>7</td>\n",
       "      <td>아니 활전복인데 오늘 오전에 와도 불안한데.</td>\n",
       "    </tr>\n",
       "    <tr>\n",
       "      <th>5675</th>\n",
       "      <td>7</td>\n",
       "      <td>NaN</td>\n",
       "    </tr>\n",
       "    <tr>\n",
       "      <th>5676</th>\n",
       "      <td>7</td>\n",
       "      <td>네. 상품은 오늘이나 내일쯤 오나요?</td>\n",
       "    </tr>\n",
       "    <tr>\n",
       "      <th>5677</th>\n",
       "      <td>7</td>\n",
       "      <td>NaN</td>\n",
       "    </tr>\n",
       "    <tr>\n",
       "      <th>5678</th>\n",
       "      <td>7</td>\n",
       "      <td>NaN</td>\n",
       "    </tr>\n",
       "  </tbody>\n",
       "</table>\n",
       "<p>477 rows × 2 columns</p>\n",
       "</div>"
      ],
      "text/plain": [
       "      intent                               query\n",
       "24         7                            네 언제 와요?\n",
       "29         7  네 제가 주말에 갈비탕 두 개를 신청했는데 배송 확인하려고요.\n",
       "34         7                 그럼 내일이나 모레 온다는 거네요?\n",
       "84         7                             언제 오나요?\n",
       "111        7                  이거는 언제 받아 볼 수 있어요?\n",
       "...      ...                                 ...\n",
       "5674       7            아니 활전복인데 오늘 오전에 와도 불안한데.\n",
       "5675       7                                 NaN\n",
       "5676       7                네. 상품은 오늘이나 내일쯤 오나요?\n",
       "5677       7                                 NaN\n",
       "5678       7                                 NaN\n",
       "\n",
       "[477 rows x 2 columns]"
      ]
     },
     "execution_count": 5,
     "metadata": {},
     "output_type": "execute_result"
    }
   ],
   "source": [
    "data[data['intent'] == 7]  # 상품색상문의에 대한 문장"
   ]
  },
  {
   "cell_type": "code",
   "execution_count": 6,
   "id": "7a27d927",
   "metadata": {},
   "outputs": [],
   "source": [
    "queries = data.dropna()['query'].tolist()\n",
    "intents = data.dropna()['intent'].tolist()"
   ]
  },
  {
   "cell_type": "code",
   "execution_count": 7,
   "id": "62219c2e",
   "metadata": {},
   "outputs": [
    {
     "data": {
      "text/plain": [
       "array([0, 1, 2, 3, 4, 5, 6, 7, 8], dtype=int64)"
      ]
     },
     "execution_count": 7,
     "metadata": {},
     "output_type": "execute_result"
    }
   ],
   "source": [
    "data.dropna()['intent'].unique()"
   ]
  },
  {
   "cell_type": "code",
   "execution_count": 8,
   "id": "87682927",
   "metadata": {},
   "outputs": [
    {
     "data": {
      "text/plain": [
       "['음, 그러면 하나 해주세요.',\n",
       " '네. 자동으로 하면 디씨 되나요?',\n",
       " '어떤 게 있나요?',\n",
       " '네. 내추럴 브라운이랑 두 가지 안 되나요?',\n",
       " '어떤 색깔을 주문해야 되나요?',\n",
       " '아. 다크가 좀 진한 색이죠?',\n",
       " '제가 프라이팬으로 착각했지만 이 상품 박스채 그대로라 반품해주세요.',\n",
       " '그거 같은 가격에 살 수 있어요?',\n",
       " '네, 주문은 맞는데 취소할려고요.',\n",
       " '내가 삼십육이니까.',\n",
       " '네. 사만 팔천구백원 아닙니까?',\n",
       " '바닥에 하는 거 신청하려구요.',\n",
       " '이백삼십오말고 이백사십으로 되나요?',\n",
       " '예. 타일 박사 신청하려고요.',\n",
       " '네 그런데 칠만 사천 백원으로 뜨는 건 뭐예요?',\n",
       " '그러면 취소 좀 시켜주세요.',\n",
       " '그러니까 배려를 좀 해주세요.',\n",
       " '네. 확인이 안 되면 취소해 주세요.',\n",
       " '천원 할인이 적용되는 거죠?',\n",
       " '육만구천구백원이요?']"
      ]
     },
     "execution_count": 8,
     "metadata": {},
     "output_type": "execute_result"
    }
   ],
   "source": [
    "queries[:20]"
   ]
  },
  {
   "cell_type": "code",
   "execution_count": 9,
   "id": "e3d27fc2",
   "metadata": {},
   "outputs": [
    {
     "data": {
      "text/plain": [
       "[0, 1, 2, 2, 2, 2, 3, 4, 5, 6, 4, 0, 6, 0, 4, 5, 5, 5, 1, 4]"
      ]
     },
     "execution_count": 9,
     "metadata": {},
     "output_type": "execute_result"
    }
   ],
   "source": [
    "intents[:20]"
   ]
  },
  {
   "cell_type": "code",
   "execution_count": 10,
   "id": "19a8ea3a",
   "metadata": {},
   "outputs": [],
   "source": [
    "from utils.Preprocess import Preprocess\n",
    "p = Preprocess(word2index_dic=os.path.join('./train_tools/dict', 'chatbot_dict.bin'),\n",
    "               userdic=os.path.join('./utils', 'train.tsv'))"
   ]
  },
  {
   "cell_type": "code",
   "execution_count": 11,
   "id": "305ecee1",
   "metadata": {},
   "outputs": [],
   "source": [
    "sequences = []\n",
    "for sentence in queries:\n",
    "    pos = p.pos(sentence)\n",
    "    keywords = p.get_keywords(pos, without_tag=True)\n",
    "    seq = p.get_wordidx_sequence(keywords)\n",
    "    sequences.append(seq)"
   ]
  },
  {
   "cell_type": "code",
   "execution_count": 12,
   "id": "494bfe42",
   "metadata": {},
   "outputs": [
    {
     "data": {
      "text/plain": [
       "['음, 그러면 하나 해주세요.',\n",
       " '네. 자동으로 하면 디씨 되나요?',\n",
       " '어떤 게 있나요?',\n",
       " '네. 내추럴 브라운이랑 두 가지 안 되나요?',\n",
       " '어떤 색깔을 주문해야 되나요?',\n",
       " '아. 다크가 좀 진한 색이죠?',\n",
       " '제가 프라이팬으로 착각했지만 이 상품 박스채 그대로라 반품해주세요.',\n",
       " '그거 같은 가격에 살 수 있어요?',\n",
       " '네, 주문은 맞는데 취소할려고요.',\n",
       " '내가 삼십육이니까.']"
      ]
     },
     "execution_count": 12,
     "metadata": {},
     "output_type": "execute_result"
    }
   ],
   "source": [
    "queries[:10]"
   ]
  },
  {
   "cell_type": "code",
   "execution_count": 13,
   "id": "f04736e6",
   "metadata": {},
   "outputs": [
    {
     "data": {
      "text/plain": [
       "[[320, 708, 2, 685, 25, 244],\n",
       " [5, 181, 2, 844, 1019, 13],\n",
       " [75, 17, 15],\n",
       " [5, 2243, 323, 294, 118, 16, 42, 13],\n",
       " [75, 129, 21, 685, 13],\n",
       " [7, 1020, 35, 593, 120, 3],\n",
       " [63, 1492, 1441, 3, 54, 365, 2244, 536, 178, 10, 685, 25, 244],\n",
       " [592, 76, 38, 90, 83, 15],\n",
       " [5, 21, 61, 59],\n",
       " [212, 119, 157, 3]]"
      ]
     },
     "execution_count": 13,
     "metadata": {},
     "output_type": "execute_result"
    }
   ],
   "source": [
    "sequences[:10]"
   ]
  },
  {
   "cell_type": "code",
   "execution_count": 14,
   "id": "9ff09ddc",
   "metadata": {},
   "outputs": [],
   "source": [
    "from config.GlobalParams import MAX_SEQ_LEN\n",
    "padded_seqs = preprocessing.sequence.pad_sequences(sequences, maxlen=MAX_SEQ_LEN, padding='post')"
   ]
  },
  {
   "cell_type": "code",
   "execution_count": 15,
   "id": "980f6296",
   "metadata": {},
   "outputs": [
    {
     "data": {
      "text/plain": [
       "(8169, 15)"
      ]
     },
     "execution_count": 15,
     "metadata": {},
     "output_type": "execute_result"
    }
   ],
   "source": [
    "padded_seqs.shape"
   ]
  },
  {
   "cell_type": "code",
   "execution_count": 16,
   "id": "4f5f2e45",
   "metadata": {},
   "outputs": [
    {
     "data": {
      "text/plain": [
       "array([[ 320,  708,    2,  685,   25,  244,    0,    0,    0,    0,    0,\n",
       "           0,    0,    0,    0],\n",
       "       [   5,  181,    2,  844, 1019,   13,    0,    0,    0,    0,    0,\n",
       "           0,    0,    0,    0],\n",
       "       [  75,   17,   15,    0,    0,    0,    0,    0,    0,    0,    0,\n",
       "           0,    0,    0,    0],\n",
       "       [   5, 2243,  323,  294,  118,   16,   42,   13,    0,    0,    0,\n",
       "           0,    0,    0,    0],\n",
       "       [  75,  129,   21,  685,   13,    0,    0,    0,    0,    0,    0,\n",
       "           0,    0,    0,    0],\n",
       "       [   7, 1020,   35,  593,  120,    3,    0,    0,    0,    0,    0,\n",
       "           0,    0,    0,    0],\n",
       "       [  63, 1492, 1441,    3,   54,  365, 2244,  536,  178,   10,  685,\n",
       "          25,  244,    0,    0],\n",
       "       [ 592,   76,   38,   90,   83,   15,    0,    0,    0,    0,    0,\n",
       "           0,    0,    0,    0],\n",
       "       [   5,   21,   61,   59,    0,    0,    0,    0,    0,    0,    0,\n",
       "           0,    0,    0,    0],\n",
       "       [ 212,  119,  157,    3,    0,    0,    0,    0,    0,    0,    0,\n",
       "           0,    0,    0,    0]])"
      ]
     },
     "execution_count": 16,
     "metadata": {},
     "output_type": "execute_result"
    }
   ],
   "source": [
    "padded_seqs[:10]"
   ]
  },
  {
   "cell_type": "code",
   "execution_count": 17,
   "id": "b1b74661",
   "metadata": {},
   "outputs": [],
   "source": [
    "# ③ 학습용, 검증용, 테스트용 데이터셋 생성\n",
    "ds = tf.data.Dataset.from_tensor_slices((padded_seqs, intents)) # 패딩처리된 시퀀스와 의도(intent) 리스트 전체를 데이터셋 객체로\n",
    "ds = ds.shuffle(len(queries)) # 랜덤 섞기\n",
    "\n",
    "# 학습셋:검증셋:테스트셋 = 7:2:1\n",
    "train_size = int(len(padded_seqs) * 0.7)\n",
    "val_size = int(len(padded_seqs) * 0.2)\n",
    "test_size = int(len(padded_seqs) * 0.1)\n",
    "\n",
    "train_ds = ds.take(train_size).batch(20)\n",
    "val_ds = ds.skip(train_size).take(val_size).batch(20)\n",
    "test_ds = ds.skip(train_size + val_size).take(test_size).batch(20)\n",
    "\n",
    "# 하이퍼 파라미터 설정\n",
    "dropout_prob = 0.5\n",
    "EMB_SIZE = 128\n",
    "EPOCH = 5\n",
    "VOCAB_SIZE = len(p.word_index) + 1 #전체 단어 개수"
   ]
  },
  {
   "cell_type": "code",
   "execution_count": 18,
   "id": "80909b15",
   "metadata": {},
   "outputs": [],
   "source": [
    "# ④ CNN 모델 정의\n",
    "# keras 함수형 모델 방식으로 구현\n",
    "input_layer = Input(shape=(MAX_SEQ_LEN,))  # 입력크기\n",
    "embedding_layer = Embedding(VOCAB_SIZE, EMB_SIZE, input_length=MAX_SEQ_LEN)(input_layer)\n",
    "dropout_emb = Dropout(rate=dropout_prob)(embedding_layer)\n",
    "\n",
    "conv1 = Conv1D(\n",
    "    filters=128,\n",
    "    kernel_size=3,\n",
    "    padding='valid',\n",
    "    activation=tf.nn.relu)(dropout_emb)\n",
    "pool1 = GlobalMaxPool1D()(conv1)\n",
    "\n",
    "conv2 = Conv1D(\n",
    "    filters=128,\n",
    "    kernel_size=4,\n",
    "    padding='valid',\n",
    "    activation=tf.nn.relu)(dropout_emb)\n",
    "pool2 = GlobalMaxPool1D()(conv2)\n",
    "\n",
    "conv3 = Conv1D(\n",
    "    filters=128,\n",
    "    kernel_size=5,\n",
    "    padding='valid',\n",
    "    activation=tf.nn.relu)(dropout_emb)\n",
    "pool3 = GlobalMaxPool1D()(conv3)\n",
    "\n",
    "# 3,4,5gram 이후 합치기\n",
    "concat = concatenate([pool1, pool2, pool3])\n",
    "\n",
    "hidden = Dense(128, activation=tf.nn.relu)(concat)\n",
    "dropout_hidden = Dropout(rate=dropout_prob)(hidden)\n",
    "logits = Dense(10, name='logits')(dropout_hidden)  # 최종적으로 10개의 의도 클래스를 분류. 결과로 나온 값(logits) 을을 점수(score) 라 부른다\n",
    "predictions = Dense(10, activation=tf.nn.softmax)(logits)"
   ]
  },
  {
   "cell_type": "code",
   "execution_count": 19,
   "id": "5914388c",
   "metadata": {},
   "outputs": [],
   "source": [
    "# ⑤ 모델 생성 \n",
    "model = Model(inputs=input_layer, outputs=predictions)\n",
    "model.compile(optimizer='adam',\n",
    "              loss='sparse_categorical_crossentropy',\n",
    "              metrics=['accuracy'])"
   ]
  },
  {
   "cell_type": "code",
   "execution_count": 20,
   "id": "30ae5386",
   "metadata": {},
   "outputs": [
    {
     "name": "stdout",
     "output_type": "stream",
     "text": [
      "Model: \"model\"\n",
      "__________________________________________________________________________________________________\n",
      " Layer (type)                   Output Shape         Param #     Connected to                     \n",
      "==================================================================================================\n",
      " input_1 (InputLayer)           [(None, 15)]         0           []                               \n",
      "                                                                                                  \n",
      " embedding (Embedding)          (None, 15, 128)      374656      ['input_1[0][0]']                \n",
      "                                                                                                  \n",
      " dropout (Dropout)              (None, 15, 128)      0           ['embedding[0][0]']              \n",
      "                                                                                                  \n",
      " conv1d (Conv1D)                (None, 13, 128)      49280       ['dropout[0][0]']                \n",
      "                                                                                                  \n",
      " conv1d_1 (Conv1D)              (None, 12, 128)      65664       ['dropout[0][0]']                \n",
      "                                                                                                  \n",
      " conv1d_2 (Conv1D)              (None, 11, 128)      82048       ['dropout[0][0]']                \n",
      "                                                                                                  \n",
      " global_max_pooling1d (GlobalMa  (None, 128)         0           ['conv1d[0][0]']                 \n",
      " xPooling1D)                                                                                      \n",
      "                                                                                                  \n",
      " global_max_pooling1d_1 (Global  (None, 128)         0           ['conv1d_1[0][0]']               \n",
      " MaxPooling1D)                                                                                    \n",
      "                                                                                                  \n",
      " global_max_pooling1d_2 (Global  (None, 128)         0           ['conv1d_2[0][0]']               \n",
      " MaxPooling1D)                                                                                    \n",
      "                                                                                                  \n",
      " concatenate (Concatenate)      (None, 384)          0           ['global_max_pooling1d[0][0]',   \n",
      "                                                                  'global_max_pooling1d_1[0][0]', \n",
      "                                                                  'global_max_pooling1d_2[0][0]'] \n",
      "                                                                                                  \n",
      " dense (Dense)                  (None, 128)          49280       ['concatenate[0][0]']            \n",
      "                                                                                                  \n",
      " dropout_1 (Dropout)            (None, 128)          0           ['dense[0][0]']                  \n",
      "                                                                                                  \n",
      " logits (Dense)                 (None, 10)           1290        ['dropout_1[0][0]']              \n",
      "                                                                                                  \n",
      " dense_1 (Dense)                (None, 10)           110         ['logits[0][0]']                 \n",
      "                                                                                                  \n",
      "==================================================================================================\n",
      "Total params: 622,328\n",
      "Trainable params: 622,328\n",
      "Non-trainable params: 0\n",
      "__________________________________________________________________________________________________\n"
     ]
    }
   ],
   "source": [
    "model.summary()"
   ]
  },
  {
   "cell_type": "code",
   "execution_count": 27,
   "id": "23cf17b0",
   "metadata": {},
   "outputs": [
    {
     "name": "stdout",
     "output_type": "stream",
     "text": [
      "Epoch 1/5\n",
      "286/286 [==============================] - 2s 7ms/step - loss: 1.0870 - accuracy: 0.6439 - val_loss: 0.3990 - val_accuracy: 0.9039\n",
      "Epoch 2/5\n",
      "286/286 [==============================] - 2s 6ms/step - loss: 0.3918 - accuracy: 0.8949 - val_loss: 0.2578 - val_accuracy: 0.9382\n",
      "Epoch 3/5\n",
      "286/286 [==============================] - 2s 6ms/step - loss: 0.2727 - accuracy: 0.9276 - val_loss: 0.1515 - val_accuracy: 0.9608\n",
      "Epoch 4/5\n",
      "286/286 [==============================] - 2s 6ms/step - loss: 0.2203 - accuracy: 0.9432 - val_loss: 0.1105 - val_accuracy: 0.9694\n",
      "Epoch 5/5\n",
      "286/286 [==============================] - 2s 6ms/step - loss: 0.1748 - accuracy: 0.9556 - val_loss: 0.1213 - val_accuracy: 0.9694\n"
     ]
    },
    {
     "data": {
      "text/plain": [
       "<keras.callbacks.History at 0x1420f37ca30>"
      ]
     },
     "execution_count": 27,
     "metadata": {},
     "output_type": "execute_result"
    }
   ],
   "source": [
    "# # 모델 학습\n",
    "# # ★ 시간 걸림 ★\n",
    "\n",
    "# model.fit(train_ds, validation_data=val_ds, epochs=EPOCH, verbose=1)"
   ]
  },
  {
   "cell_type": "code",
   "execution_count": 45,
   "id": "8f2ae6f8",
   "metadata": {},
   "outputs": [
    {
     "name": "stdout",
     "output_type": "stream",
     "text": [
      "41/41 [==============================] - 0s 2ms/step - loss: 0.0856 - accuracy: 0.9706\n",
      "Accuracy: 97.058821\n",
      "loss: 0.085611\n"
     ]
    }
   ],
   "source": [
    "# ⑦ 모델 평가(테스트 데이터 셋 이용)\n",
    "loss, accuracy = model.evaluate(test_ds, verbose=1)\n",
    "print('Accuracy: %f' % (accuracy * 100))\n",
    "print('loss: %f' % (loss))"
   ]
  },
  {
   "cell_type": "code",
   "execution_count": 29,
   "id": "04ed5023",
   "metadata": {},
   "outputs": [],
   "source": [
    "# ⑧ 모델 저장\n",
    "model.save(os.path.join('./models/intent','intent_model.h5'))"
   ]
  },
  {
   "cell_type": "code",
   "execution_count": 30,
   "id": "194d58e8",
   "metadata": {},
   "outputs": [],
   "source": [
    "from utils.Preprocess import Preprocess    # 의도분류 모델 테스트\n",
    "from models.intent.IntentModel import IntentModel\n",
    "import os\n",
    "\n",
    "p = Preprocess(word2index_dic=os.path.join('./train_tools/dict', 'chatbot_dict.bin'),\n",
    "               userdic=os.path.join('./utils', 'user_dic_1.tsv'))"
   ]
  },
  {
   "cell_type": "code",
   "execution_count": 31,
   "id": "ea27059b",
   "metadata": {},
   "outputs": [],
   "source": [
    "intent = IntentModel(model_name=os.path.join('./models/intent', 'intent_model.h5'), preprocess=p)"
   ]
  },
  {
   "cell_type": "code",
   "execution_count": 46,
   "id": "426926b4",
   "metadata": {},
   "outputs": [
    {
     "name": "stdout",
     "output_type": "stream",
     "text": [
      "제 거 언제와요?\n",
      "의도 예측 클래스 :  7\n",
      "의도 예측 레이블 :  배송일정확인\n"
     ]
    }
   ],
   "source": [
    "query = '제 거 언제와요?'\n",
    "predict = intent.predict_class(query)\n",
    "predict_label = intent.labels[predict]\n",
    "print(query)\n",
    "print(\"의도 예측 클래스 : \", predict)\n",
    "print(\"의도 예측 레이블 : \", predict_label)"
   ]
  },
  {
   "cell_type": "code",
   "execution_count": null,
   "id": "8d5712e3",
   "metadata": {},
   "outputs": [],
   "source": []
  },
  {
   "cell_type": "code",
   "execution_count": null,
   "id": "58768e46",
   "metadata": {},
   "outputs": [],
   "source": []
  },
  {
   "cell_type": "code",
   "execution_count": null,
   "id": "34a9c7e6",
   "metadata": {},
   "outputs": [],
   "source": []
  },
  {
   "cell_type": "code",
   "execution_count": null,
   "id": "806dc026",
   "metadata": {},
   "outputs": [],
   "source": []
  },
  {
   "cell_type": "code",
   "execution_count": null,
   "id": "253c6c4d",
   "metadata": {},
   "outputs": [],
   "source": []
  },
  {
   "cell_type": "code",
   "execution_count": null,
   "id": "7fc83055",
   "metadata": {},
   "outputs": [],
   "source": []
  }
 ],
 "metadata": {
  "kernelspec": {
   "display_name": "Python 3 (ipykernel)",
   "language": "python",
   "name": "python3"
  },
  "language_info": {
   "codemirror_mode": {
    "name": "ipython",
    "version": 3
   },
   "file_extension": ".py",
   "mimetype": "text/x-python",
   "name": "python",
   "nbconvert_exporter": "python",
   "pygments_lexer": "ipython3",
   "version": "3.9.12"
  }
 },
 "nbformat": 4,
 "nbformat_minor": 5
}
