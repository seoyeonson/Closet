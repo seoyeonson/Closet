{
 "cells": [
  {
   "cell_type": "code",
   "execution_count": 1,
   "id": "4c2b3b71",
   "metadata": {},
   "outputs": [
    {
     "name": "stdout",
     "output_type": "stream",
     "text": [
      "테이블 생성 성공\n"
     ]
    }
   ],
   "source": [
    "import pymysql\n",
    "from config.DatabaseConfig import * # DB 접속 정보 불러오기\n",
    "\n",
    "db = None\n",
    "try:\n",
    "    db = pymysql.connect(\n",
    "        host=DB_HOST,\n",
    "        user=DB_USER,\n",
    "        passwd=DB_PASSWORD,\n",
    "        db=DB_NAME,\n",
    "        charset='utf8'\n",
    "    )\n",
    "\n",
    "    # 테이블 생성 sql 정의\n",
    "    sql = '''\n",
    "      CREATE TABLE IF NOT EXISTS `chatbot_train_data` (\n",
    "      `id` INT UNSIGNED NOT NULL AUTO_INCREMENT,\n",
    "      `intent` VARCHAR(45) NULL,\n",
    "      `ner` VARCHAR(1024) NULL,\n",
    "      `query` TEXT NULL,\n",
    "      `answer` TEXT NOT NULL,\n",
    "      `answer_image` VARCHAR(2048) NULL,\n",
    "      PRIMARY KEY (`id`))\n",
    "    ENGINE = InnoDB DEFAULT CHARSET=utf8\n",
    "    '''\n",
    "\n",
    "    # 테이블 생성\n",
    "    with db.cursor() as cursor:\n",
    "        cursor.execute(sql)\n",
    "        \n",
    "    print('테이블 생성 성공')\n",
    "\n",
    "except Exception as e:\n",
    "    print(e)\n",
    "\n",
    "finally:\n",
    "    if db is not None:\n",
    "        db.close()\n",
    "\n"
   ]
  },
  {
   "cell_type": "code",
   "execution_count": 2,
   "id": "9fe997bd",
   "metadata": {},
   "outputs": [
    {
     "data": {
      "text/html": [
       "<div>\n",
       "<style scoped>\n",
       "    .dataframe tbody tr th:only-of-type {\n",
       "        vertical-align: middle;\n",
       "    }\n",
       "\n",
       "    .dataframe tbody tr th {\n",
       "        vertical-align: top;\n",
       "    }\n",
       "\n",
       "    .dataframe thead th {\n",
       "        text-align: right;\n",
       "    }\n",
       "</style>\n",
       "<table border=\"1\" class=\"dataframe\">\n",
       "  <thead>\n",
       "    <tr style=\"text-align: right;\">\n",
       "      <th></th>\n",
       "      <th>의도</th>\n",
       "      <th>개체명</th>\n",
       "      <th>질문</th>\n",
       "      <th>답변</th>\n",
       "      <th>답변이미지</th>\n",
       "    </tr>\n",
       "  </thead>\n",
       "  <tbody>\n",
       "    <tr>\n",
       "      <th>0</th>\n",
       "      <td>상품주문</td>\n",
       "      <td>NaN</td>\n",
       "      <td>주문할래</td>\n",
       "      <td>총 몇 개 구매하시겠어요?</td>\n",
       "      <td>NaN</td>\n",
       "    </tr>\n",
       "    <tr>\n",
       "      <th>1</th>\n",
       "      <td>할인적용문의</td>\n",
       "      <td>NaN</td>\n",
       "      <td>할인 받을 수 있어?</td>\n",
       "      <td>고객님이 보유하신 쿠폰 사용 시 할인받으실 수 있어요.</td>\n",
       "      <td>NaN</td>\n",
       "    </tr>\n",
       "    <tr>\n",
       "      <th>2</th>\n",
       "      <td>상품색상문의</td>\n",
       "      <td>NaN</td>\n",
       "      <td>무슨색이야?</td>\n",
       "      <td>색상은 다음과 같아요</td>\n",
       "      <td>NaN</td>\n",
       "    </tr>\n",
       "    <tr>\n",
       "      <th>3</th>\n",
       "      <td>반품요청</td>\n",
       "      <td>NaN</td>\n",
       "      <td>저번에 주문한 것 반품하고싶어</td>\n",
       "      <td>해당 주문에 대해 반품 원하시는 것 맞으신가요?</td>\n",
       "      <td>NaN</td>\n",
       "    </tr>\n",
       "    <tr>\n",
       "      <th>4</th>\n",
       "      <td>상품가격문의</td>\n",
       "      <td>NaN</td>\n",
       "      <td>얼마야?</td>\n",
       "      <td>이 상품의 가격은 다음과 같습니다.</td>\n",
       "      <td>NaN</td>\n",
       "    </tr>\n",
       "    <tr>\n",
       "      <th>5</th>\n",
       "      <td>주문취소요청</td>\n",
       "      <td>NaN</td>\n",
       "      <td>주문 취소할래</td>\n",
       "      <td>해당 주문에 대해 취소 원하시는 것 맞으신가요?</td>\n",
       "      <td>NaN</td>\n",
       "    </tr>\n",
       "    <tr>\n",
       "      <th>6</th>\n",
       "      <td>상품사이즈문의</td>\n",
       "      <td>NaN</td>\n",
       "      <td>사이즈가 어떻게돼?</td>\n",
       "      <td>사이즈는 다음과 같아요.</td>\n",
       "      <td>NaN</td>\n",
       "    </tr>\n",
       "    <tr>\n",
       "      <th>7</th>\n",
       "      <td>배송일정확인</td>\n",
       "      <td>NaN</td>\n",
       "      <td>주문한 물건 언제와?</td>\n",
       "      <td>주문하신 상품이 아직 출고되지 않았습니다.</td>\n",
       "      <td>NaN</td>\n",
       "    </tr>\n",
       "    <tr>\n",
       "      <th>8</th>\n",
       "      <td>상품추천요청</td>\n",
       "      <td>{B_CATEGORY}</td>\n",
       "      <td>{B_CATEGORY} 제품 추천해줘</td>\n",
       "      <td>고객님의 취향에 맞춰 골라봤어요. ,</td>\n",
       "      <td>NaN</td>\n",
       "    </tr>\n",
       "    <tr>\n",
       "      <th>9</th>\n",
       "      <td>상품추천요청</td>\n",
       "      <td>NaN</td>\n",
       "      <td>제품 추천해줘</td>\n",
       "      <td>어떤 종류의 상품을 추천해 드릴까요?</td>\n",
       "      <td>NaN</td>\n",
       "    </tr>\n",
       "    <tr>\n",
       "      <th>10</th>\n",
       "      <td>주문수량확인</td>\n",
       "      <td>NaN</td>\n",
       "      <td>뭐시기개</td>\n",
       "      <td>주문이 완료되었습니다.</td>\n",
       "      <td>NaN</td>\n",
       "    </tr>\n",
       "    <tr>\n",
       "      <th>11</th>\n",
       "      <td>카테고리선택</td>\n",
       "      <td>{B_CATEGORY}</td>\n",
       "      <td>{B_CATEGORY}</td>\n",
       "      <td>고객님의 취향에 맞춰 골라봤어요. ,</td>\n",
       "      <td>NaN</td>\n",
       "    </tr>\n",
       "    <tr>\n",
       "      <th>12</th>\n",
       "      <td>긍정</td>\n",
       "      <td>NaN</td>\n",
       "      <td>예</td>\n",
       "      <td>예가 입력되었습니다</td>\n",
       "      <td>NaN</td>\n",
       "    </tr>\n",
       "    <tr>\n",
       "      <th>13</th>\n",
       "      <td>부정</td>\n",
       "      <td>NaN</td>\n",
       "      <td>아니오</td>\n",
       "      <td>아니오가 입력되었습니다</td>\n",
       "      <td>NaN</td>\n",
       "    </tr>\n",
       "  </tbody>\n",
       "</table>\n",
       "</div>"
      ],
      "text/plain": [
       "         의도           개체명                    질문  \\\n",
       "0      상품주문           NaN                  주문할래   \n",
       "1    할인적용문의           NaN           할인 받을 수 있어?   \n",
       "2    상품색상문의           NaN                무슨색이야?   \n",
       "3      반품요청           NaN      저번에 주문한 것 반품하고싶어   \n",
       "4    상품가격문의           NaN                  얼마야?   \n",
       "5    주문취소요청           NaN               주문 취소할래   \n",
       "6   상품사이즈문의           NaN            사이즈가 어떻게돼?   \n",
       "7    배송일정확인           NaN           주문한 물건 언제와?   \n",
       "8    상품추천요청  {B_CATEGORY}  {B_CATEGORY} 제품 추천해줘   \n",
       "9    상품추천요청           NaN               제품 추천해줘   \n",
       "10   주문수량확인           NaN                  뭐시기개   \n",
       "11   카테고리선택  {B_CATEGORY}          {B_CATEGORY}   \n",
       "12       긍정           NaN                     예   \n",
       "13       부정           NaN                   아니오   \n",
       "\n",
       "                                답변  답변이미지  \n",
       "0                   총 몇 개 구매하시겠어요?    NaN  \n",
       "1   고객님이 보유하신 쿠폰 사용 시 할인받으실 수 있어요.    NaN  \n",
       "2                      색상은 다음과 같아요    NaN  \n",
       "3       해당 주문에 대해 반품 원하시는 것 맞으신가요?    NaN  \n",
       "4              이 상품의 가격은 다음과 같습니다.    NaN  \n",
       "5       해당 주문에 대해 취소 원하시는 것 맞으신가요?    NaN  \n",
       "6                    사이즈는 다음과 같아요.    NaN  \n",
       "7          주문하신 상품이 아직 출고되지 않았습니다.    NaN  \n",
       "8             고객님의 취향에 맞춰 골라봤어요. ,    NaN  \n",
       "9             어떤 종류의 상품을 추천해 드릴까요?    NaN  \n",
       "10                    주문이 완료되었습니다.    NaN  \n",
       "11            고객님의 취향에 맞춰 골라봤어요. ,    NaN  \n",
       "12                      예가 입력되었습니다    NaN  \n",
       "13                    아니오가 입력되었습니다    NaN  "
      ]
     },
     "execution_count": 2,
     "metadata": {},
     "output_type": "execute_result"
    }
   ],
   "source": [
    "import pandas as pd\n",
    "df = pd.read_excel(r'C:/DevRoot/TeamProj2/train_data/train_data_q&a.xlsx')\n",
    "df"
   ]
  },
  {
   "cell_type": "code",
   "execution_count": 3,
   "id": "d4263ea8",
   "metadata": {},
   "outputs": [],
   "source": [
    "import pymysql\n",
    "import openpyxl\n",
    "\n",
    "from config.DatabaseConfig import * # DB 접속 정보 불러오기\n"
   ]
  },
  {
   "cell_type": "code",
   "execution_count": 4,
   "id": "e0eddcd8",
   "metadata": {},
   "outputs": [],
   "source": [
    "# 학습 데이터 초기화\n",
    "def all_clear_train_data(db):\n",
    "    # 기존 학습 데이터 삭제\n",
    "    sql = '''\n",
    "            delete from chatbot_train_data\n",
    "        '''\n",
    "    with db.cursor() as cursor:\n",
    "        cursor.execute(sql)\n",
    "\n",
    "    # auto increment 초기화\n",
    "    sql = '''\n",
    "    ALTER TABLE chatbot_train_data AUTO_INCREMENT=1\n",
    "    '''\n",
    "    with db.cursor() as cursor:\n",
    "        cursor.execute(sql)\n",
    "\n",
    "\n",
    "# db에 데이터 저장\n",
    "def insert_data(db, xls_row):\n",
    "    intent, ner, query, answer, answer_img_url = xls_row\n",
    "\n",
    "    sql = '''\n",
    "        INSERT chatbot_train_data(intent, ner, query, answer, answer_image) \n",
    "        values(\n",
    "         '%s', '%s', '%s', '%s', '%s'\n",
    "        )\n",
    "    ''' % (intent.value, ner.value, query.value, answer.value, answer_img_url.value)\n",
    "\n",
    "    # 엑셀에서 불러온 cell에 데이터가 없는 경우, null 로 치환\n",
    "    sql = sql.replace(\"'None'\", \"null\")\n",
    "\n",
    "    with db.cursor() as cursor:\n",
    "        cursor.execute(sql)\n",
    "        print('{} 저장'.format(query.value))\n",
    "        db.commit()\n"
   ]
  },
  {
   "cell_type": "code",
   "execution_count": 5,
   "id": "3e4d1603",
   "metadata": {},
   "outputs": [
    {
     "name": "stdout",
     "output_type": "stream",
     "text": [
      "주문할래 저장\n",
      "할인 받을 수 있어? 저장\n",
      "무슨색이야? 저장\n",
      "저번에 주문한 것 반품하고싶어 저장\n",
      "얼마야? 저장\n",
      "주문 취소할래 저장\n",
      "사이즈가 어떻게돼? 저장\n",
      "주문한 물건 언제와? 저장\n",
      "{B_CATEGORY} 제품 추천해줘 저장\n",
      "제품 추천해줘 저장\n",
      "뭐시기개 저장\n",
      "{B_CATEGORY} 저장\n",
      "예 저장\n",
      "아니오 저장\n"
     ]
    }
   ],
   "source": [
    "train_file = r'C:/DevRoot/TeamProj2/train_data/train_data_q&a.xlsx'\n",
    "db = None\n",
    "try:\n",
    "    db = pymysql.connect(\n",
    "        host=DB_HOST,\n",
    "        user=DB_USER,\n",
    "        passwd=DB_PASSWORD,\n",
    "        db=DB_NAME,\n",
    "        charset='utf8'\n",
    "    )\n",
    "\n",
    "    # 기존 학습 데이터 초기화\n",
    "    all_clear_train_data(db)\n",
    "\n",
    "    # 학습 엑셀 파일 불러오기\n",
    "    wb = openpyxl.load_workbook(train_file)\n",
    "    sheet = wb['Sheet1']\n",
    "    for row in sheet.iter_rows(min_row=2): # 해더는 불러오지 않음\n",
    "        # 데이터 저장\n",
    "        insert_data(db, row)\n",
    "\n",
    "    wb.close()\n",
    "\n",
    "except Exception as e:\n",
    "    print(e)\n",
    "\n",
    "finally:\n",
    "    if db is not None:\n",
    "        db.close()\n",
    "\n"
   ]
  },
  {
   "cell_type": "code",
   "execution_count": 6,
   "id": "ab63caa3",
   "metadata": {},
   "outputs": [],
   "source": [
    "def _make_query(intent_name, ner_tags):\n",
    "    sql = \"select * from chatbot_train_data\"\n",
    "    if intent_name != None and ner_tags == None:\n",
    "        sql = sql + \" where intent='{}' \".format(intent_name)\n",
    "\n",
    "    elif intent_name != None and ner_tags != None:\n",
    "        where = ' where intent=\"%s\" ' % intent_name\n",
    "        if (len(ner_tags) > 0):\n",
    "            where += 'and ('\n",
    "            for ne in ner_tags:\n",
    "                where += \" ner like '%{}%' or \".format(ne)\n",
    "            where = where[:-3] + ')'\n",
    "        sql = sql + where \n",
    "        \n",
    "    # 동일한 답변이 2개 이상인 경우 랜덤으로 선택\n",
    "    sql = sql + \" order by rand() limit 1\"\n",
    "    return sql;"
   ]
  },
  {
   "cell_type": "code",
   "execution_count": 7,
   "id": "03330b5e",
   "metadata": {},
   "outputs": [
    {
     "name": "stdout",
     "output_type": "stream",
     "text": [
      "select * from chatbot_train_data where intent=\"추천\" and ( ner like '%B_CATEGORY%' ) order by rand() limit 1\n"
     ]
    }
   ],
   "source": [
    "print(_make_query('추천', ['B_CATEGORY']))"
   ]
  },
  {
   "cell_type": "code",
   "execution_count": 1,
   "id": "cd115ce8",
   "metadata": {},
   "outputs": [],
   "source": [
    "from config.DatabaseConfig import *\n",
    "from utils.Database import Database\n",
    "from utils.Preprocess import Preprocess\n",
    "import tensorflow as tf\n",
    "from tensorflow.keras.models import Model, load_model\n",
    "from tensorflow.keras import preprocessing\n"
   ]
  },
  {
   "cell_type": "code",
   "execution_count": 2,
   "id": "ba8de2b9",
   "metadata": {},
   "outputs": [],
   "source": [
    "# 전처리 객체 생성\n",
    "p = Preprocess(word2index_dic='./train_tools/dict/chatbot_dict.bin',\n",
    "               userdic='./utils/user_dic.tsv')\n"
   ]
  },
  {
   "cell_type": "code",
   "execution_count": 3,
   "id": "bef7fadc",
   "metadata": {},
   "outputs": [],
   "source": [
    "# 질문/답변 학습 디비 연결 객체 생성\n",
    "db = Database(\n",
    "    host=DB_HOST, user=DB_USER, password=DB_PASSWORD, db_name=DB_NAME\n",
    ")\n",
    "db.connect()    # 디비 연결"
   ]
  },
  {
   "cell_type": "code",
   "execution_count": 4,
   "id": "83d51410",
   "metadata": {},
   "outputs": [],
   "source": [
    "# 질의 문장\n",
    "query = \"바지 추천해주세요\""
   ]
  },
  {
   "cell_type": "code",
   "execution_count": 5,
   "id": "4eba60e4",
   "metadata": {},
   "outputs": [],
   "source": [
    "# 의도 분류\n",
    "from models.intent.IntentModel import IntentModel\n",
    "intent = IntentModel(model_name='./models/intent/intent_model.h5', preprocess=p)"
   ]
  },
  {
   "cell_type": "code",
   "execution_count": 6,
   "id": "05c4b9dd",
   "metadata": {},
   "outputs": [
    {
     "data": {
      "text/plain": [
       "8"
      ]
     },
     "execution_count": 6,
     "metadata": {},
     "output_type": "execute_result"
    }
   ],
   "source": [
    "predict = intent.predict_class(query)\n",
    "predict"
   ]
  },
  {
   "cell_type": "code",
   "execution_count": 7,
   "id": "eda37c69",
   "metadata": {},
   "outputs": [
    {
     "data": {
      "text/plain": [
       "'상품추천요청'"
      ]
     },
     "execution_count": 7,
     "metadata": {},
     "output_type": "execute_result"
    }
   ],
   "source": [
    "intent_name = intent.labels[predict]\n",
    "intent_name"
   ]
  },
  {
   "cell_type": "code",
   "execution_count": 8,
   "id": "c3e26fb1",
   "metadata": {},
   "outputs": [],
   "source": [
    "# 개체명 인식 (NER)\n",
    "from models.ner.NerModel import NerModel\n",
    "ner = NerModel(model_name='./models/ner/ner_model.h5', preprocess=p)"
   ]
  },
  {
   "cell_type": "code",
   "execution_count": 9,
   "id": "6be094e1",
   "metadata": {},
   "outputs": [
    {
     "data": {
      "text/plain": [
       "[('바지', 'B_CATEGORY'), ('추천', 'I'), ('주', 'NNP')]"
      ]
     },
     "execution_count": 9,
     "metadata": {},
     "output_type": "execute_result"
    }
   ],
   "source": [
    "predicts = ner.predict(query)\n",
    "predicts"
   ]
  },
  {
   "cell_type": "code",
   "execution_count": 10,
   "id": "709e50e0",
   "metadata": {},
   "outputs": [
    {
     "data": {
      "text/plain": [
       "['B_CATEGORY', 'I', 'NNP']"
      ]
     },
     "execution_count": 10,
     "metadata": {},
     "output_type": "execute_result"
    }
   ],
   "source": [
    "ner_tags = ner.predict_tags(query)\n",
    "ner_tags"
   ]
  },
  {
   "cell_type": "code",
   "execution_count": 11,
   "id": "06677cea",
   "metadata": {},
   "outputs": [
    {
     "name": "stdout",
     "output_type": "stream",
     "text": [
      "질문 :  바지 추천해주세요\n",
      "====================================================================================================\n",
      "의도 파악 :  상품추천요청\n",
      "개체명 인식 :  [('바지', 'B_CATEGORY'), ('추천', 'I'), ('주', 'NNP')]\n",
      "답변 검색에 필요한 NER 태그 :  ['B_CATEGORY', 'I', 'NNP']\n",
      "====================================================================================================\n"
     ]
    }
   ],
   "source": [
    "print(\"질문 : \", query)\n",
    "print(\"=\" * 100)\n",
    "print(\"의도 파악 : \", intent_name)\n",
    "print(\"개체명 인식 : \", predicts)\n",
    "print(\"답변 검색에 필요한 NER 태그 : \", ner_tags)\n",
    "print(\"=\" * 100)"
   ]
  },
  {
   "cell_type": "code",
   "execution_count": 12,
   "id": "76067c6d",
   "metadata": {},
   "outputs": [
    {
     "name": "stdout",
     "output_type": "stream",
     "text": [
      "답변 :  고객님의 취향에 맞춰 골라봤어요. ,22SS 스트레치 유틸리티 카고 조거 팬츠_블랙\n"
     ]
    }
   ],
   "source": [
    "# 답변검색\n",
    "from utils.FindAnswer import FindAnswer\n",
    "\n",
    "f = FindAnswer(db)\n",
    "answer_text, answer_image = f.search(intent_name, ner_tags)\n",
    "answer = f.tag_to_word(predicts, answer_text)\n",
    "try:\n",
    "    f = FindAnswer(db)\n",
    "    answer_text, answer_image = f.search(intent_name, ner_tags)\n",
    "    answer = f.tag_to_word(predicts, answer_text)\n",
    "except:\n",
    "    answer = \"죄송해요 무슨 말인지 모르겠어요\"\n",
    "\n",
    "print(\"답변 : \", answer)"
   ]
  },
  {
   "cell_type": "code",
   "execution_count": 13,
   "id": "769a7a6a",
   "metadata": {},
   "outputs": [
    {
     "data": {
      "text/plain": [
       "'바지'"
      ]
     },
     "execution_count": 13,
     "metadata": {},
     "output_type": "execute_result"
    }
   ],
   "source": [
    "answer"
   ]
  },
  {
   "cell_type": "code",
   "execution_count": null,
   "id": "8767c528",
   "metadata": {},
   "outputs": [],
   "source": []
  },
  {
   "cell_type": "code",
   "execution_count": null,
   "id": "fb8b1c99",
   "metadata": {},
   "outputs": [],
   "source": []
  },
  {
   "cell_type": "code",
   "execution_count": null,
   "id": "3d6378d0",
   "metadata": {},
   "outputs": [],
   "source": []
  },
  {
   "cell_type": "code",
   "execution_count": null,
   "id": "cbf4f78d",
   "metadata": {},
   "outputs": [],
   "source": []
  },
  {
   "cell_type": "code",
   "execution_count": null,
   "id": "af73f102",
   "metadata": {},
   "outputs": [],
   "source": []
  },
  {
   "cell_type": "code",
   "execution_count": null,
   "id": "85917b60",
   "metadata": {},
   "outputs": [],
   "source": []
  },
  {
   "cell_type": "code",
   "execution_count": null,
   "id": "7af0e52b",
   "metadata": {},
   "outputs": [],
   "source": []
  },
  {
   "cell_type": "code",
   "execution_count": null,
   "id": "bd08f409",
   "metadata": {},
   "outputs": [],
   "source": []
  },
  {
   "cell_type": "code",
   "execution_count": null,
   "id": "0e4cd5c4",
   "metadata": {},
   "outputs": [],
   "source": []
  },
  {
   "cell_type": "code",
   "execution_count": null,
   "id": "808108da",
   "metadata": {},
   "outputs": [],
   "source": []
  },
  {
   "cell_type": "code",
   "execution_count": null,
   "id": "4aca438f",
   "metadata": {},
   "outputs": [],
   "source": []
  },
  {
   "cell_type": "code",
   "execution_count": null,
   "id": "a7fc98e4",
   "metadata": {},
   "outputs": [],
   "source": []
  },
  {
   "cell_type": "code",
   "execution_count": null,
   "id": "66c81123",
   "metadata": {},
   "outputs": [],
   "source": []
  },
  {
   "cell_type": "code",
   "execution_count": null,
   "id": "ab623abe",
   "metadata": {},
   "outputs": [],
   "source": []
  },
  {
   "cell_type": "code",
   "execution_count": null,
   "id": "904ec427",
   "metadata": {},
   "outputs": [],
   "source": []
  },
  {
   "cell_type": "code",
   "execution_count": null,
   "id": "967a96a0",
   "metadata": {},
   "outputs": [],
   "source": []
  },
  {
   "cell_type": "code",
   "execution_count": null,
   "id": "7e15d2bf",
   "metadata": {},
   "outputs": [],
   "source": []
  },
  {
   "cell_type": "code",
   "execution_count": null,
   "id": "42818561",
   "metadata": {},
   "outputs": [],
   "source": []
  },
  {
   "cell_type": "code",
   "execution_count": null,
   "id": "9b59fd90",
   "metadata": {},
   "outputs": [],
   "source": []
  },
  {
   "cell_type": "code",
   "execution_count": null,
   "id": "f25ee323",
   "metadata": {},
   "outputs": [],
   "source": []
  },
  {
   "cell_type": "code",
   "execution_count": null,
   "id": "a984318d",
   "metadata": {},
   "outputs": [],
   "source": []
  },
  {
   "cell_type": "code",
   "execution_count": null,
   "id": "64ff9c69",
   "metadata": {},
   "outputs": [],
   "source": []
  },
  {
   "cell_type": "code",
   "execution_count": null,
   "id": "2e24c52b",
   "metadata": {},
   "outputs": [],
   "source": []
  },
  {
   "cell_type": "code",
   "execution_count": null,
   "id": "67526a0a",
   "metadata": {},
   "outputs": [],
   "source": []
  },
  {
   "cell_type": "code",
   "execution_count": null,
   "id": "162c8d39",
   "metadata": {},
   "outputs": [],
   "source": []
  },
  {
   "cell_type": "code",
   "execution_count": null,
   "id": "56ce9627",
   "metadata": {},
   "outputs": [],
   "source": []
  },
  {
   "cell_type": "code",
   "execution_count": null,
   "id": "224065d0",
   "metadata": {},
   "outputs": [],
   "source": []
  },
  {
   "cell_type": "code",
   "execution_count": null,
   "id": "3ffe9fe8",
   "metadata": {},
   "outputs": [],
   "source": []
  },
  {
   "cell_type": "code",
   "execution_count": null,
   "id": "7d7216ac",
   "metadata": {},
   "outputs": [],
   "source": []
  },
  {
   "cell_type": "code",
   "execution_count": null,
   "id": "27e7dbc3",
   "metadata": {},
   "outputs": [],
   "source": []
  },
  {
   "cell_type": "code",
   "execution_count": null,
   "id": "67a1094f",
   "metadata": {},
   "outputs": [],
   "source": []
  },
  {
   "cell_type": "code",
   "execution_count": null,
   "id": "4e3bd4f8",
   "metadata": {},
   "outputs": [],
   "source": []
  },
  {
   "cell_type": "code",
   "execution_count": null,
   "id": "405952c4",
   "metadata": {},
   "outputs": [],
   "source": []
  },
  {
   "cell_type": "code",
   "execution_count": null,
   "id": "43f8a40b",
   "metadata": {},
   "outputs": [],
   "source": []
  },
  {
   "cell_type": "code",
   "execution_count": null,
   "id": "af2d3d48",
   "metadata": {},
   "outputs": [],
   "source": []
  },
  {
   "cell_type": "code",
   "execution_count": null,
   "id": "a3dfa71c",
   "metadata": {},
   "outputs": [],
   "source": []
  },
  {
   "cell_type": "code",
   "execution_count": null,
   "id": "0921a595",
   "metadata": {},
   "outputs": [],
   "source": []
  },
  {
   "cell_type": "code",
   "execution_count": null,
   "id": "3c909709",
   "metadata": {},
   "outputs": [],
   "source": []
  },
  {
   "cell_type": "code",
   "execution_count": null,
   "id": "8877e203",
   "metadata": {},
   "outputs": [],
   "source": []
  },
  {
   "cell_type": "code",
   "execution_count": null,
   "id": "6ab8e1d1",
   "metadata": {},
   "outputs": [],
   "source": []
  },
  {
   "cell_type": "code",
   "execution_count": null,
   "id": "aaba4d10",
   "metadata": {},
   "outputs": [],
   "source": []
  },
  {
   "cell_type": "code",
   "execution_count": null,
   "id": "486aee94",
   "metadata": {},
   "outputs": [],
   "source": []
  },
  {
   "cell_type": "code",
   "execution_count": null,
   "id": "dc76919b",
   "metadata": {},
   "outputs": [],
   "source": []
  },
  {
   "cell_type": "code",
   "execution_count": null,
   "id": "8469818d",
   "metadata": {},
   "outputs": [],
   "source": []
  },
  {
   "cell_type": "code",
   "execution_count": null,
   "id": "fcb81d65",
   "metadata": {},
   "outputs": [],
   "source": []
  },
  {
   "cell_type": "code",
   "execution_count": null,
   "id": "cf196742",
   "metadata": {},
   "outputs": [],
   "source": []
  },
  {
   "cell_type": "code",
   "execution_count": null,
   "id": "019f11f6",
   "metadata": {},
   "outputs": [],
   "source": []
  },
  {
   "cell_type": "code",
   "execution_count": null,
   "id": "d00e0b38",
   "metadata": {},
   "outputs": [],
   "source": []
  },
  {
   "cell_type": "code",
   "execution_count": null,
   "id": "943113f0",
   "metadata": {},
   "outputs": [],
   "source": []
  },
  {
   "cell_type": "code",
   "execution_count": null,
   "id": "29201708",
   "metadata": {},
   "outputs": [],
   "source": []
  },
  {
   "cell_type": "code",
   "execution_count": null,
   "id": "d3f84e09",
   "metadata": {},
   "outputs": [],
   "source": []
  },
  {
   "cell_type": "code",
   "execution_count": null,
   "id": "ca71383e",
   "metadata": {},
   "outputs": [],
   "source": []
  },
  {
   "cell_type": "code",
   "execution_count": null,
   "id": "d47018a6",
   "metadata": {},
   "outputs": [],
   "source": []
  },
  {
   "cell_type": "code",
   "execution_count": null,
   "id": "eb192636",
   "metadata": {},
   "outputs": [],
   "source": []
  },
  {
   "cell_type": "code",
   "execution_count": null,
   "id": "45b1dabd",
   "metadata": {},
   "outputs": [],
   "source": []
  },
  {
   "cell_type": "code",
   "execution_count": null,
   "id": "ae98ce83",
   "metadata": {},
   "outputs": [],
   "source": []
  },
  {
   "cell_type": "code",
   "execution_count": null,
   "id": "478888d5",
   "metadata": {},
   "outputs": [],
   "source": []
  },
  {
   "cell_type": "code",
   "execution_count": null,
   "id": "a652586a",
   "metadata": {},
   "outputs": [],
   "source": []
  },
  {
   "cell_type": "code",
   "execution_count": null,
   "id": "7c0f0f43",
   "metadata": {},
   "outputs": [],
   "source": []
  },
  {
   "cell_type": "code",
   "execution_count": null,
   "id": "8fd9d01e",
   "metadata": {},
   "outputs": [],
   "source": []
  },
  {
   "cell_type": "code",
   "execution_count": null,
   "id": "8990b8dc",
   "metadata": {},
   "outputs": [],
   "source": []
  },
  {
   "cell_type": "code",
   "execution_count": null,
   "id": "8dcf7dc6",
   "metadata": {},
   "outputs": [],
   "source": []
  },
  {
   "cell_type": "code",
   "execution_count": null,
   "id": "c60e6309",
   "metadata": {},
   "outputs": [],
   "source": []
  },
  {
   "cell_type": "code",
   "execution_count": null,
   "id": "b9731edd",
   "metadata": {},
   "outputs": [],
   "source": []
  },
  {
   "cell_type": "code",
   "execution_count": null,
   "id": "4b6262df",
   "metadata": {},
   "outputs": [],
   "source": []
  },
  {
   "cell_type": "code",
   "execution_count": null,
   "id": "9cbbc3ce",
   "metadata": {},
   "outputs": [],
   "source": []
  },
  {
   "cell_type": "code",
   "execution_count": null,
   "id": "5e250b2f",
   "metadata": {},
   "outputs": [],
   "source": []
  },
  {
   "cell_type": "code",
   "execution_count": null,
   "id": "41213078",
   "metadata": {},
   "outputs": [],
   "source": []
  }
 ],
 "metadata": {
  "kernelspec": {
   "display_name": "Python 3 (ipykernel)",
   "language": "python",
   "name": "python3"
  },
  "language_info": {
   "codemirror_mode": {
    "name": "ipython",
    "version": 3
   },
   "file_extension": ".py",
   "mimetype": "text/x-python",
   "name": "python",
   "nbconvert_exporter": "python",
   "pygments_lexer": "ipython3",
   "version": "3.9.12"
  }
 },
 "nbformat": 4,
 "nbformat_minor": 5
}
