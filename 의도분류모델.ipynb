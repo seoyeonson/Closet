{
 "cells": [
  {
   "cell_type": "code",
   "execution_count": 156,
   "id": "cd4f0135",
   "metadata": {},
   "outputs": [],
   "source": [
    "MAX_SEQ_LEN = 15\n",
    "\n",
    "\n",
    "def GlobalParams():\n",
    "    global MAX_SEQ_LEN"
   ]
  },
  {
   "cell_type": "code",
   "execution_count": 243,
   "id": "80e7dd2d",
   "metadata": {},
   "outputs": [],
   "source": [
    "# 필요한 모듈 임포트\n",
    "import pandas as pd\n",
    "import tensorflow as tf\n",
    "from tensorflow.keras import preprocessing\n",
    "from tensorflow.keras.models import Model\n",
    "from tensorflow.keras.layers import Input, Embedding, Dense, Dropout, Conv1D, GlobalMaxPool1D, concatenate\n",
    "import os"
   ]
  },
  {
   "cell_type": "code",
   "execution_count": 273,
   "id": "246b8b43",
   "metadata": {
    "scrolled": true
   },
   "outputs": [
    {
     "data": {
      "text/html": [
       "<div>\n",
       "<style scoped>\n",
       "    .dataframe tbody tr th:only-of-type {\n",
       "        vertical-align: middle;\n",
       "    }\n",
       "\n",
       "    .dataframe tbody tr th {\n",
       "        vertical-align: top;\n",
       "    }\n",
       "\n",
       "    .dataframe thead th {\n",
       "        text-align: right;\n",
       "    }\n",
       "</style>\n",
       "<table border=\"1\" class=\"dataframe\">\n",
       "  <thead>\n",
       "    <tr style=\"text-align: right;\">\n",
       "      <th></th>\n",
       "      <th>intent</th>\n",
       "      <th>query</th>\n",
       "    </tr>\n",
       "  </thead>\n",
       "  <tbody>\n",
       "    <tr>\n",
       "      <th>0</th>\n",
       "      <td>0</td>\n",
       "      <td>음, 그러면 하나 해주세요.</td>\n",
       "    </tr>\n",
       "    <tr>\n",
       "      <th>1</th>\n",
       "      <td>1</td>\n",
       "      <td>네. 자동으로 하면 디씨 되나요?</td>\n",
       "    </tr>\n",
       "    <tr>\n",
       "      <th>2</th>\n",
       "      <td>2</td>\n",
       "      <td>어떤 게 있나요?</td>\n",
       "    </tr>\n",
       "    <tr>\n",
       "      <th>3</th>\n",
       "      <td>2</td>\n",
       "      <td>네. 내추럴 브라운이랑 두 가지 안 되나요?</td>\n",
       "    </tr>\n",
       "    <tr>\n",
       "      <th>4</th>\n",
       "      <td>2</td>\n",
       "      <td>어떤 색깔을 주문해야 되나요?</td>\n",
       "    </tr>\n",
       "    <tr>\n",
       "      <th>...</th>\n",
       "      <td>...</td>\n",
       "      <td>...</td>\n",
       "    </tr>\n",
       "    <tr>\n",
       "      <th>127847</th>\n",
       "      <td>10</td>\n",
       "      <td>뷰티</td>\n",
       "    </tr>\n",
       "    <tr>\n",
       "      <th>127848</th>\n",
       "      <td>10</td>\n",
       "      <td>아우터</td>\n",
       "    </tr>\n",
       "    <tr>\n",
       "      <th>127849</th>\n",
       "      <td>10</td>\n",
       "      <td>스커트</td>\n",
       "    </tr>\n",
       "    <tr>\n",
       "      <th>127850</th>\n",
       "      <td>10</td>\n",
       "      <td>뷰티</td>\n",
       "    </tr>\n",
       "    <tr>\n",
       "      <th>127851</th>\n",
       "      <td>10</td>\n",
       "      <td>아우터</td>\n",
       "    </tr>\n",
       "  </tbody>\n",
       "</table>\n",
       "<p>127852 rows × 2 columns</p>\n",
       "</div>"
      ],
      "text/plain": [
       "        intent                     query\n",
       "0            0           음, 그러면 하나 해주세요.\n",
       "1            1        네. 자동으로 하면 디씨 되나요?\n",
       "2            2                 어떤 게 있나요?\n",
       "3            2  네. 내추럴 브라운이랑 두 가지 안 되나요?\n",
       "4            2          어떤 색깔을 주문해야 되나요?\n",
       "...        ...                       ...\n",
       "127847      10                        뷰티\n",
       "127848      10                       아우터\n",
       "127849      10                       스커트\n",
       "127850      10                        뷰티\n",
       "127851      10                       아우터\n",
       "\n",
       "[127852 rows x 2 columns]"
      ]
     },
     "execution_count": 273,
     "metadata": {},
     "output_type": "execute_result"
    }
   ],
   "source": [
    "# ① 데이터 읽어오기\n",
    "train_file = os.path.join('./models/intent', \"test_sum.csv\")\n",
    "data = pd.read_csv(train_file, delimiter=',')\n",
    "data.columns = ['intent','query']\n",
    "data"
   ]
  },
  {
   "cell_type": "code",
   "execution_count": 274,
   "id": "c4772ffa",
   "metadata": {},
   "outputs": [
    {
     "data": {
      "text/plain": [
       "-1"
      ]
     },
     "execution_count": 274,
     "metadata": {},
     "output_type": "execute_result"
    }
   ],
   "source": [
    "data.iloc[0]['query'].find('추천')"
   ]
  },
  {
   "cell_type": "code",
   "execution_count": 275,
   "id": "fc327df2",
   "metadata": {},
   "outputs": [],
   "source": [
    "for i in data:\n",
    "    if data.iloc[0]['query'].find('추천') >0:\n",
    "        data.iloc[0]['intent'] = 8"
   ]
  },
  {
   "cell_type": "code",
   "execution_count": 276,
   "id": "e0431c1e",
   "metadata": {},
   "outputs": [
    {
     "data": {
      "text/plain": [
       "array([ 0,  1,  2,  3,  4,  5,  6,  7,  8,  9, 10, 11, 12, 13],\n",
       "      dtype=int64)"
      ]
     },
     "execution_count": 276,
     "metadata": {},
     "output_type": "execute_result"
    }
   ],
   "source": [
    "data['intent'].unique()"
   ]
  },
  {
   "cell_type": "code",
   "execution_count": 277,
   "id": "2616ac0b",
   "metadata": {},
   "outputs": [
    {
     "data": {
      "text/html": [
       "<div>\n",
       "<style scoped>\n",
       "    .dataframe tbody tr th:only-of-type {\n",
       "        vertical-align: middle;\n",
       "    }\n",
       "\n",
       "    .dataframe tbody tr th {\n",
       "        vertical-align: top;\n",
       "    }\n",
       "\n",
       "    .dataframe thead th {\n",
       "        text-align: right;\n",
       "    }\n",
       "</style>\n",
       "<table border=\"1\" class=\"dataframe\">\n",
       "  <thead>\n",
       "    <tr style=\"text-align: right;\">\n",
       "      <th></th>\n",
       "      <th>intent</th>\n",
       "      <th>query</th>\n",
       "    </tr>\n",
       "  </thead>\n",
       "  <tbody>\n",
       "    <tr>\n",
       "      <th>8404</th>\n",
       "      <td>12</td>\n",
       "      <td>아니오</td>\n",
       "    </tr>\n",
       "    <tr>\n",
       "      <th>8405</th>\n",
       "      <td>12</td>\n",
       "      <td>아니에요</td>\n",
       "    </tr>\n",
       "    <tr>\n",
       "      <th>8406</th>\n",
       "      <td>12</td>\n",
       "      <td>아니</td>\n",
       "    </tr>\n",
       "    <tr>\n",
       "      <th>8407</th>\n",
       "      <td>12</td>\n",
       "      <td>아냐</td>\n",
       "    </tr>\n",
       "    <tr>\n",
       "      <th>8408</th>\n",
       "      <td>12</td>\n",
       "      <td>아니요</td>\n",
       "    </tr>\n",
       "    <tr>\n",
       "      <th>...</th>\n",
       "      <td>...</td>\n",
       "      <td>...</td>\n",
       "    </tr>\n",
       "    <tr>\n",
       "      <th>117943</th>\n",
       "      <td>12</td>\n",
       "      <td>nO</td>\n",
       "    </tr>\n",
       "    <tr>\n",
       "      <th>117944</th>\n",
       "      <td>12</td>\n",
       "      <td>No</td>\n",
       "    </tr>\n",
       "    <tr>\n",
       "      <th>117945</th>\n",
       "      <td>12</td>\n",
       "      <td>하지마</td>\n",
       "    </tr>\n",
       "    <tr>\n",
       "      <th>117946</th>\n",
       "      <td>12</td>\n",
       "      <td>이러지마 제발</td>\n",
       "    </tr>\n",
       "    <tr>\n",
       "      <th>117947</th>\n",
       "      <td>12</td>\n",
       "      <td>이러지마</td>\n",
       "    </tr>\n",
       "  </tbody>\n",
       "</table>\n",
       "<p>526 rows × 2 columns</p>\n",
       "</div>"
      ],
      "text/plain": [
       "        intent    query\n",
       "8404        12      아니오\n",
       "8405        12     아니에요\n",
       "8406        12       아니\n",
       "8407        12       아냐\n",
       "8408        12      아니요\n",
       "...        ...      ...\n",
       "117943      12       nO\n",
       "117944      12       No\n",
       "117945      12      하지마\n",
       "117946      12  이러지마 제발\n",
       "117947      12     이러지마\n",
       "\n",
       "[526 rows x 2 columns]"
      ]
     },
     "execution_count": 277,
     "metadata": {},
     "output_type": "execute_result"
    }
   ],
   "source": [
    "data[data['intent'] == 12]  # 상품색상문의에 대한 문장"
   ]
  },
  {
   "cell_type": "code",
   "execution_count": 278,
   "id": "7a27d927",
   "metadata": {},
   "outputs": [],
   "source": [
    "queries = data.dropna()['query'].tolist()\n",
    "intents = data.dropna()['intent'].tolist()"
   ]
  },
  {
   "cell_type": "code",
   "execution_count": 279,
   "id": "1f2f4cee",
   "metadata": {},
   "outputs": [
    {
     "data": {
      "text/plain": [
       "127852"
      ]
     },
     "execution_count": 279,
     "metadata": {},
     "output_type": "execute_result"
    }
   ],
   "source": [
    "len(queries)"
   ]
  },
  {
   "cell_type": "code",
   "execution_count": 280,
   "id": "62219c2e",
   "metadata": {},
   "outputs": [
    {
     "data": {
      "text/plain": [
       "array([ 0,  1,  2,  3,  4,  5,  6,  7,  8,  9, 10, 11, 12, 13],\n",
       "      dtype=int64)"
      ]
     },
     "execution_count": 280,
     "metadata": {},
     "output_type": "execute_result"
    }
   ],
   "source": [
    "data.dropna()['intent'].unique()"
   ]
  },
  {
   "cell_type": "code",
   "execution_count": 281,
   "id": "87682927",
   "metadata": {},
   "outputs": [
    {
     "data": {
      "text/plain": [
       "['음, 그러면 하나 해주세요.',\n",
       " '네. 자동으로 하면 디씨 되나요?',\n",
       " '어떤 게 있나요?',\n",
       " '네. 내추럴 브라운이랑 두 가지 안 되나요?',\n",
       " '어떤 색깔을 주문해야 되나요?',\n",
       " '아. 다크가 좀 진한 색이죠?',\n",
       " '제가 프라이팬으로 착각했지만 이 상품 박스채 그대로라 반품해주세요.',\n",
       " '그거 같은 가격에 살 수 있어요?',\n",
       " '네, 주문은 맞는데 취소할려고요.',\n",
       " '내가 삼십육이니까.',\n",
       " '네. 사만 팔천구백원 아닙니까?',\n",
       " '바닥에 하는 거 신청하려구요.',\n",
       " '이백삼십오말고 이백사십으로 되나요?',\n",
       " '예. 타일 박사 신청하려고요.',\n",
       " '네 그런데 칠만 사천 백원으로 뜨는 건 뭐예요?',\n",
       " '그러면 취소 좀 시켜주세요.',\n",
       " '그러니까 배려를 좀 해주세요.',\n",
       " '네. 확인이 안 되면 취소해 주세요.',\n",
       " '천원 할인이 적용되는 거죠?',\n",
       " '육만구천구백원이요?']"
      ]
     },
     "execution_count": 281,
     "metadata": {},
     "output_type": "execute_result"
    }
   ],
   "source": [
    "queries[:20]"
   ]
  },
  {
   "cell_type": "code",
   "execution_count": 282,
   "id": "e3d27fc2",
   "metadata": {},
   "outputs": [
    {
     "data": {
      "text/plain": [
       "[0, 1, 2, 2, 2, 2, 3, 4, 5, 6, 4, 0, 6, 0, 4, 5, 5, 5, 1, 4]"
      ]
     },
     "execution_count": 282,
     "metadata": {},
     "output_type": "execute_result"
    }
   ],
   "source": [
    "intents[:20]"
   ]
  },
  {
   "cell_type": "code",
   "execution_count": 283,
   "id": "19a8ea3a",
   "metadata": {},
   "outputs": [],
   "source": [
    "from utils.Preprocess import Preprocess\n",
    "p = Preprocess(word2index_dic=os.path.join('./train_tools/dict', 'chatbot_dict.bin'),\n",
    "               userdic=os.path.join('./utils', 'train.tsv'))"
   ]
  },
  {
   "cell_type": "code",
   "execution_count": 284,
   "id": "4e9dc153",
   "metadata": {},
   "outputs": [
    {
     "data": {
      "text/plain": [
       "'마카로니 도와줘'"
      ]
     },
     "execution_count": 284,
     "metadata": {},
     "output_type": "execute_result"
    }
   ],
   "source": [
    "queries[30829]"
   ]
  },
  {
   "cell_type": "code",
   "execution_count": 285,
   "id": "305ecee1",
   "metadata": {},
   "outputs": [],
   "source": [
    "sequences = []\n",
    "cnt=0\n",
    "for sentence in queries:\n",
    "    pos = p.pos(sentence)\n",
    "    keywords = p.get_keywords(pos, without_tag=True)\n",
    "    seq = p.get_wordidx_sequence(keywords)\n",
    "    sequences.append(seq)\n",
    "    cnt+=1"
   ]
  },
  {
   "cell_type": "code",
   "execution_count": 286,
   "id": "9ff09ddc",
   "metadata": {},
   "outputs": [],
   "source": [
    "from config.GlobalParams import MAX_SEQ_LEN\n",
    "padded_seqs = preprocessing.sequence.pad_sequences(sequences, maxlen=MAX_SEQ_LEN, padding='post')"
   ]
  },
  {
   "cell_type": "code",
   "execution_count": 287,
   "id": "b1b74661",
   "metadata": {},
   "outputs": [],
   "source": [
    "# ③ 학습용, 검증용, 테스트용 데이터셋 생성\n",
    "ds = tf.data.Dataset.from_tensor_slices((padded_seqs, intents)) # 패딩처리된 시퀀스와 의도(intent) 리스트 전체를 데이터셋 객체로\n",
    "ds = ds.shuffle(len(queries)) # 랜덤 섞기\n",
    "\n",
    "# 학습셋:검증셋:테스트셋 = 7:2:1\n",
    "train_size = int(len(padded_seqs) * 0.65)\n",
    "val_size = int(len(padded_seqs) * 0.2)\n",
    "test_size = int(len(padded_seqs) * 0.15)\n",
    "\n",
    "train_ds = ds.take(train_size).batch(11)\n",
    "val_ds = ds.skip(train_size).take(val_size).batch(11)\n",
    "test_ds = ds.skip(train_size + val_size).take(test_size).batch(11)\n",
    "\n",
    "# 하이퍼 파라미터 설정\n",
    "dropout_prob = 0.5\n",
    "EMB_SIZE = 128\n",
    "EPOCH = 5\n",
    "VOCAB_SIZE = len(p.word_index) + 1 #전체 단어 개수"
   ]
  },
  {
   "cell_type": "code",
   "execution_count": 288,
   "id": "80909b15",
   "metadata": {},
   "outputs": [],
   "source": [
    "# ④ CNN 모델 정의\n",
    "# keras 함수형 모델 방식으로 구현\n",
    "input_layer = Input(shape=(MAX_SEQ_LEN,))  # 입력크기\n",
    "embedding_layer = Embedding(VOCAB_SIZE, EMB_SIZE, input_length=MAX_SEQ_LEN)(input_layer)\n",
    "dropout_emb = Dropout(rate=dropout_prob)(embedding_layer)\n",
    "\n",
    "conv1 = Conv1D(\n",
    "    filters=128,\n",
    "    kernel_size=3,\n",
    "    padding='valid',\n",
    "    activation=tf.nn.relu)(dropout_emb)\n",
    "pool1 = GlobalMaxPool1D()(conv1)\n",
    "\n",
    "conv2 = Conv1D(\n",
    "    filters=128,\n",
    "    kernel_size=4,\n",
    "    padding='valid',\n",
    "    activation=tf.nn.relu)(dropout_emb)\n",
    "pool2 = GlobalMaxPool1D()(conv2)\n",
    "\n",
    "conv3 = Conv1D(\n",
    "    filters=128,\n",
    "    kernel_size=5,\n",
    "    padding='valid',\n",
    "    activation=tf.nn.relu)(dropout_emb)\n",
    "pool3 = GlobalMaxPool1D()(conv3)\n",
    "\n",
    "# 3,4,5gram 이후 합치기\n",
    "concat = concatenate([pool1, pool2, pool3])\n",
    "\n",
    "hidden = Dense(128, activation=tf.nn.relu)(concat)\n",
    "dropout_hidden = Dropout(rate=dropout_prob)(hidden)\n",
    "logits = Dense(14, name='logits')(dropout_hidden)  # 최종적으로 14개의 의도 클래스를 분류. 결과로 나온 값(logits) 을을 점수(score) 라 부른다\n",
    "predictions = Dense(14, activation=tf.nn.softmax)(logits)"
   ]
  },
  {
   "cell_type": "code",
   "execution_count": 289,
   "id": "5914388c",
   "metadata": {},
   "outputs": [],
   "source": [
    "# ⑤ 모델 생성 \n",
    "model = Model(inputs=input_layer, outputs=predictions)\n",
    "model.compile(optimizer='adam',\n",
    "              loss='sparse_categorical_crossentropy',\n",
    "              metrics=['accuracy'])"
   ]
  },
  {
   "cell_type": "code",
   "execution_count": 290,
   "id": "30ae5386",
   "metadata": {},
   "outputs": [
    {
     "name": "stdout",
     "output_type": "stream",
     "text": [
      "Model: \"model_11\"\n",
      "__________________________________________________________________________________________________\n",
      " Layer (type)                   Output Shape         Param #     Connected to                     \n",
      "==================================================================================================\n",
      " input_12 (InputLayer)          [(None, 15)]         0           []                               \n",
      "                                                                                                  \n",
      " embedding_11 (Embedding)       (None, 15, 128)      374656      ['input_12[0][0]']               \n",
      "                                                                                                  \n",
      " dropout_22 (Dropout)           (None, 15, 128)      0           ['embedding_11[0][0]']           \n",
      "                                                                                                  \n",
      " conv1d_33 (Conv1D)             (None, 13, 128)      49280       ['dropout_22[0][0]']             \n",
      "                                                                                                  \n",
      " conv1d_34 (Conv1D)             (None, 12, 128)      65664       ['dropout_22[0][0]']             \n",
      "                                                                                                  \n",
      " conv1d_35 (Conv1D)             (None, 11, 128)      82048       ['dropout_22[0][0]']             \n",
      "                                                                                                  \n",
      " global_max_pooling1d_33 (Globa  (None, 128)         0           ['conv1d_33[0][0]']              \n",
      " lMaxPooling1D)                                                                                   \n",
      "                                                                                                  \n",
      " global_max_pooling1d_34 (Globa  (None, 128)         0           ['conv1d_34[0][0]']              \n",
      " lMaxPooling1D)                                                                                   \n",
      "                                                                                                  \n",
      " global_max_pooling1d_35 (Globa  (None, 128)         0           ['conv1d_35[0][0]']              \n",
      " lMaxPooling1D)                                                                                   \n",
      "                                                                                                  \n",
      " concatenate_11 (Concatenate)   (None, 384)          0           ['global_max_pooling1d_33[0][0]',\n",
      "                                                                  'global_max_pooling1d_34[0][0]',\n",
      "                                                                  'global_max_pooling1d_35[0][0]']\n",
      "                                                                                                  \n",
      " dense_22 (Dense)               (None, 128)          49280       ['concatenate_11[0][0]']         \n",
      "                                                                                                  \n",
      " dropout_23 (Dropout)           (None, 128)          0           ['dense_22[0][0]']               \n",
      "                                                                                                  \n",
      " logits (Dense)                 (None, 14)           1806        ['dropout_23[0][0]']             \n",
      "                                                                                                  \n",
      " dense_23 (Dense)               (None, 14)           210         ['logits[0][0]']                 \n",
      "                                                                                                  \n",
      "==================================================================================================\n",
      "Total params: 622,944\n",
      "Trainable params: 622,944\n",
      "Non-trainable params: 0\n",
      "__________________________________________________________________________________________________\n"
     ]
    }
   ],
   "source": [
    "model.summary()"
   ]
  },
  {
   "cell_type": "code",
   "execution_count": 291,
   "id": "23cf17b0",
   "metadata": {},
   "outputs": [
    {
     "name": "stdout",
     "output_type": "stream",
     "text": [
      "Epoch 1/5\n",
      "7555/7555 [==============================] - 52s 7ms/step - loss: 0.2050 - accuracy: 0.9283 - val_loss: 0.1148 - val_accuracy: 0.9519\n",
      "Epoch 2/5\n",
      "7555/7555 [==============================] - 53s 7ms/step - loss: 0.1328 - accuracy: 0.9485 - val_loss: 0.0969 - val_accuracy: 0.9560\n",
      "Epoch 3/5\n",
      "7555/7555 [==============================] - 52s 7ms/step - loss: 0.1204 - accuracy: 0.9515 - val_loss: 0.0910 - val_accuracy: 0.9585\n",
      "Epoch 4/5\n",
      "7555/7555 [==============================] - 53s 7ms/step - loss: 0.1141 - accuracy: 0.9533 - val_loss: 0.0907 - val_accuracy: 0.9553\n",
      "Epoch 5/5\n",
      "7555/7555 [==============================] - 54s 7ms/step - loss: 0.1106 - accuracy: 0.9546 - val_loss: 0.0924 - val_accuracy: 0.9587\n"
     ]
    },
    {
     "data": {
      "text/plain": [
       "<keras.callbacks.History at 0x19637b8a7f0>"
      ]
     },
     "execution_count": 291,
     "metadata": {},
     "output_type": "execute_result"
    }
   ],
   "source": [
    "# # 모델 학습\n",
    "# # ★ 시간 걸림 ★\n",
    "\n",
    "model.fit(train_ds, validation_data=val_ds, epochs=EPOCH, verbose=1)"
   ]
  },
  {
   "cell_type": "code",
   "execution_count": 292,
   "id": "8f2ae6f8",
   "metadata": {},
   "outputs": [
    {
     "name": "stdout",
     "output_type": "stream",
     "text": [
      "1744/1744 [==============================] - 5s 3ms/step - loss: 0.0913 - accuracy: 0.9583\n",
      "Accuracy: 95.833552\n",
      "loss: 0.091349\n"
     ]
    }
   ],
   "source": [
    "# ⑦ 모델 평가(테스트 데이터 셋 이용)\n",
    "loss, accuracy = model.evaluate(test_ds, verbose=1)\n",
    "print('Accuracy: %f' % (accuracy * 100))\n",
    "print('loss: %f' % (loss))"
   ]
  },
  {
   "cell_type": "code",
   "execution_count": 293,
   "id": "04ed5023",
   "metadata": {},
   "outputs": [],
   "source": [
    "# ⑧ 모델 저장\n",
    "model.save(os.path.join('./models/intent','intent_model.h5'))"
   ]
  },
  {
   "cell_type": "code",
   "execution_count": 294,
   "id": "194d58e8",
   "metadata": {},
   "outputs": [],
   "source": [
    "from utils.Preprocess import Preprocess    # 의도분류 모델 테스트\n",
    "from models.intent.IntentModel import IntentModel\n",
    "import os\n",
    "\n",
    "p = Preprocess(word2index_dic=os.path.join('./train_tools/dict', 'chatbot_dict.bin'),\n",
    "               userdic=os.path.join('./utils', 'train.tsv'))"
   ]
  },
  {
   "cell_type": "code",
   "execution_count": 295,
   "id": "ea27059b",
   "metadata": {},
   "outputs": [],
   "source": [
    "intent = IntentModel(model_name=os.path.join('./models/intent', 'intent_model.h5'), preprocess=p)"
   ]
  },
  {
   "cell_type": "code",
   "execution_count": 300,
   "id": "426926b4",
   "metadata": {},
   "outputs": [
    {
     "name": "stdout",
     "output_type": "stream",
     "text": [
      "아우터\n",
      "의도 예측 클래스 :  10\n",
      "의도 예측 레이블 :  카테고리선택\n"
     ]
    }
   ],
   "source": [
    "query = '아우터'\n",
    "predict = intent.predict_class(query)\n",
    "predict_label = intent.labels[predict]\n",
    "print(query)\n",
    "print(\"의도 예측 클래스 : \", predict)\n",
    "print(\"의도 예측 레이블 : \", predict_label)"
   ]
  },
  {
   "cell_type": "code",
   "execution_count": 297,
   "id": "806dc026",
   "metadata": {},
   "outputs": [
    {
     "data": {
      "text/plain": [
       "[('동의', 'NNG'), ('하', 'XSV'), ('지', 'EC')]"
      ]
     },
     "execution_count": 297,
     "metadata": {},
     "output_type": "execute_result"
    }
   ],
   "source": [
    "p.pos('동의하지')"
   ]
  },
  {
   "cell_type": "code",
   "execution_count": null,
   "id": "dc56d500",
   "metadata": {},
   "outputs": [],
   "source": []
  },
  {
   "cell_type": "code",
   "execution_count": null,
   "id": "42819618",
   "metadata": {},
   "outputs": [],
   "source": []
  }
 ],
 "metadata": {
  "kernelspec": {
   "display_name": "Python 3 (ipykernel)",
   "language": "python",
   "name": "python3"
  },
  "language_info": {
   "codemirror_mode": {
    "name": "ipython",
    "version": 3
   },
   "file_extension": ".py",
   "mimetype": "text/x-python",
   "name": "python",
   "nbconvert_exporter": "python",
   "pygments_lexer": "ipython3",
   "version": "3.9.12"
  }
 },
 "nbformat": 4,
 "nbformat_minor": 5
}
